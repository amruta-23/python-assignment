{
 "cells": [
  {
   "cell_type": "markdown",
   "id": "eac5a710",
   "metadata": {},
   "source": [
    "### 1. Write a program to reverse a string."
   ]
  },
  {
   "cell_type": "code",
   "execution_count": 1,
   "id": "f707d0e3",
   "metadata": {},
   "outputs": [
    {
     "name": "stdout",
     "output_type": "stream",
     "text": [
      "nohtyp\n"
     ]
    }
   ],
   "source": [
    "str = \"python\"\n",
    "print(str[::-1])"
   ]
  },
  {
   "cell_type": "markdown",
   "id": "cf4adcd8",
   "metadata": {},
   "source": [
    "2. Check if a string is a palindrome."
   ]
  },
  {
   "cell_type": "code",
   "execution_count": 1,
   "id": "5e0c488c",
   "metadata": {},
   "outputs": [
    {
     "name": "stdout",
     "output_type": "stream",
     "text": [
      "Enter a string:\tradar\n",
      "radar Is a palindrom\n"
     ]
    }
   ],
   "source": [
    "str1 = input(\"Enter a string:\\t\")\n",
    "\n",
    "if(str1 == str1[::-1]):\n",
    "    print(str1, 'Is a palindrom')\n",
    "else:\n",
    "    print(str1, 'Not palindrom')"
   ]
  },
  {
   "cell_type": "markdown",
   "id": "ee00f9ec",
   "metadata": {},
   "source": [
    "3. Convert a string to uppercase."
   ]
  },
  {
   "cell_type": "code",
   "execution_count": 3,
   "id": "0fa12920",
   "metadata": {},
   "outputs": [
    {
     "data": {
      "text/plain": [
       "'KRISHNA'"
      ]
     },
     "execution_count": 3,
     "metadata": {},
     "output_type": "execute_result"
    }
   ],
   "source": [
    "str2 = 'krishna'\n",
    "str2.upper()"
   ]
  },
  {
   "cell_type": "markdown",
   "id": "ae812868",
   "metadata": {},
   "source": [
    "4. Convert a string to lowercase."
   ]
  },
  {
   "cell_type": "code",
   "execution_count": 4,
   "id": "07dd7326",
   "metadata": {},
   "outputs": [
    {
     "data": {
      "text/plain": [
       "'nitai gaurang'"
      ]
     },
     "execution_count": 4,
     "metadata": {},
     "output_type": "execute_result"
    }
   ],
   "source": [
    "str3 = 'Nitai Gaurang'\n",
    "\n",
    "str3.lower()"
   ]
  },
  {
   "cell_type": "markdown",
   "id": "d44ae1c7",
   "metadata": {},
   "source": [
    "5. Count the number of vowels in a string."
   ]
  },
  {
   "cell_type": "code",
   "execution_count": 6,
   "id": "4641fa9f",
   "metadata": {},
   "outputs": [
    {
     "name": "stdout",
     "output_type": "stream",
     "text": [
      "Enter a sentence:On festivals mother puts rangoli using different colours\n",
      "\n",
      "total vowels in On festivals mother puts rangoli using different colours is : 18\n"
     ]
    }
   ],
   "source": [
    "str1 = input(\"Enter a sentence:\")\n",
    "count = 0\n",
    "for i in str1:\n",
    "    if (i == 'a' or i == 'e' or i =='i'or i =='o' or i == 'u') or (i == 'A' or i == 'E' or i == 'I' or i== 'O' or i =='U'):\n",
    "        count += 1\n",
    "    \n",
    "print(\"\\ntotal vowels in\", str1,\"is :\", count)\n",
    "\n"
   ]
  },
  {
   "cell_type": "markdown",
   "id": "cff3aec8",
   "metadata": {},
   "source": [
    "6. Count the number of consonants in a string."
   ]
  },
  {
   "cell_type": "code",
   "execution_count": 11,
   "id": "87408b59",
   "metadata": {},
   "outputs": [
    {
     "name": "stdout",
     "output_type": "stream",
     "text": [
      "Enter a sentence:know program\n",
      "\n",
      " total consonents in know program is : 8\n"
     ]
    }
   ],
   "source": [
    "str1 = input(\"Enter a sentence:\")\n",
    "count = 0\n",
    "consonants = \"bcdfghjklmnpqrstvwxyzBCDFGHJKLMNPQRSTVWXYZ\"\n",
    "for i in str1:\n",
    "    if( i  in consonants):\n",
    "        \n",
    "        count += 1\n",
    "    \n",
    "print(\"\\n total consonents in\", str1,\"is :\", count)\n",
    "\n"
   ]
  },
  {
   "cell_type": "markdown",
   "id": "e23cce88",
   "metadata": {},
   "source": [
    "### 7 Remove all whitespaces from a string."
   ]
  },
  {
   "cell_type": "code",
   "execution_count": 10,
   "id": "6506f530",
   "metadata": {},
   "outputs": [
    {
     "name": "stdout",
     "output_type": "stream",
     "text": [
      "Enter string:remove all white space from string\n",
      "original string:\t remove all white space from string\n",
      "\n",
      "space removed string:\t removeallwhitespacefromstring\n"
     ]
    }
   ],
   "source": [
    "str3 = input(\"Enter string:\") # not working\n",
    "remove_sps = str3.replace(\" \", \"\")\n",
    "print(\"original string:\\t\",str3)\n",
    "\n",
    "print(\"\\nspace removed string:\\t\", remove_sps)"
   ]
  },
  {
   "cell_type": "markdown",
   "id": "9312d573",
   "metadata": {},
   "source": [
    "8. Find the length of a string without using the `len()` function."
   ]
  },
  {
   "cell_type": "code",
   "execution_count": 6,
   "id": "39c070ea",
   "metadata": {},
   "outputs": [
    {
     "name": "stdout",
     "output_type": "stream",
     "text": [
      "12\n"
     ]
    }
   ],
   "source": [
    "str3 = 'hare krishna'\n",
    "count = 0\n",
    "for i in str3:\n",
    "    count += 1\n",
    "        \n",
    "print(count)    "
   ]
  },
  {
   "cell_type": "markdown",
   "id": "f711491c",
   "metadata": {},
   "source": [
    "9. Check if a string contains a specific word."
   ]
  },
  {
   "cell_type": "code",
   "execution_count": 7,
   "id": "b6f3519a",
   "metadata": {},
   "outputs": [
    {
     "name": "stdout",
     "output_type": "stream",
     "text": [
      "Enter string:\tchant hare krishna and be happy\n",
      "The specific word was found in string.\n"
     ]
    }
   ],
   "source": [
    "text = input(\"Enter string:\\t\")\n",
    "specific_word = \"chant\"\n",
    "\n",
    "if specific_word in text :\n",
    "    print(\"The specific word was found in string.\")\n",
    "    \n",
    "else:\n",
    "    print(\"The specific word was not found in string.\")"
   ]
  },
  {
   "cell_type": "markdown",
   "id": "6a91df89",
   "metadata": {},
   "source": [
    "10. Replace a word in a string with another word."
   ]
  },
  {
   "cell_type": "code",
   "execution_count": 6,
   "id": "b43414d2",
   "metadata": {},
   "outputs": [
    {
     "data": {
      "text/plain": [
       "'Replace a word in a string with another word'"
      ]
     },
     "execution_count": 6,
     "metadata": {},
     "output_type": "execute_result"
    }
   ],
   "source": [
    "str4 = 'place a word in a string with another word'\n",
    "\n",
    "str4.replace('place', 'Replace')\n"
   ]
  },
  {
   "cell_type": "markdown",
   "id": "59fe2d20",
   "metadata": {},
   "source": [
    "11. Count the occurrences of a word in a string."
   ]
  },
  {
   "cell_type": "code",
   "execution_count": 10,
   "id": "22124f33",
   "metadata": {},
   "outputs": [
    {
     "name": "stdout",
     "output_type": "stream",
     "text": [
      "9\n"
     ]
    }
   ],
   "source": [
    "str4 = 'replace a word in a string with another word'\n",
    "# print(str4.split()) # convert each word into each list item\n",
    "\n",
    "count = 0\n",
    "for i in str4.split():\n",
    "    count += 1\n",
    "print(count)        "
   ]
  },
  {
   "cell_type": "markdown",
   "id": "3d3c7e4c",
   "metadata": {},
   "source": [
    "12. Find the first occurrence of a word in a string."
   ]
  },
  {
   "cell_type": "code",
   "execution_count": 5,
   "id": "559baab0",
   "metadata": {},
   "outputs": [
    {
     "name": "stdout",
     "output_type": "stream",
     "text": [
      "Enter a stringlist of a word\n",
      "First occurence of list of a word is: list\n"
     ]
    }
   ],
   "source": [
    "str = input(\"Enter a string\")\n",
    "    \n",
    "a = str.split()\n",
    "print(\"First occurence of\", str, \"is:\", a[0])\n",
    "    \n",
    "# if (str[0].isalpha() == True):\n"
   ]
  },
  {
   "cell_type": "markdown",
   "id": "31d7fbc2",
   "metadata": {},
   "source": [
    "13. Find the last occurrence of a word in a string."
   ]
  },
  {
   "cell_type": "code",
   "execution_count": 6,
   "id": "52cbe3bb",
   "metadata": {},
   "outputs": [
    {
     "name": "stdout",
     "output_type": "stream",
     "text": [
      "Enter a stringlist of a word\n",
      "First occurence of list of a word is: word\n"
     ]
    }
   ],
   "source": [
    "str = input(\"Enter a string\")\n",
    "    \n",
    "a = str.split()\n",
    "print(\"First occurence of\", str, \"is:\", a[-1])\n",
    "    "
   ]
  },
  {
   "cell_type": "markdown",
   "id": "0d252e8f",
   "metadata": {},
   "source": [
    "14. Split a string into a list of words"
   ]
  },
  {
   "cell_type": "code",
   "execution_count": 8,
   "id": "6994d719",
   "metadata": {},
   "outputs": [
    {
     "name": "stdout",
     "output_type": "stream",
     "text": [
      "Enter a stringsplit string into list of words\n",
      "['split', 'string', 'into', 'list', 'of', 'words']\n"
     ]
    }
   ],
   "source": [
    "str = input(\"Enter a string\")\n",
    "    \n",
    "a = str.split()\n",
    "print(a)"
   ]
  },
  {
   "cell_type": "markdown",
   "id": "d87a43ee",
   "metadata": {},
   "source": [
    "15. Join a list of words into a string"
   ]
  },
  {
   "cell_type": "code",
   "execution_count": 13,
   "id": "890b4cb6",
   "metadata": {},
   "outputs": [
    {
     "name": "stdout",
     "output_type": "stream",
     "text": [
      "Join a list of words into a string\n"
     ]
    }
   ],
   "source": [
    "l = ['Join', 'a', 'list', 'of', 'words', 'into', 'a', 'string']\n",
    "\n",
    "print( \" \".join(l))\n"
   ]
  },
  {
   "cell_type": "code",
   "execution_count": null,
   "id": "7af85070",
   "metadata": {},
   "outputs": [],
   "source": []
  },
  {
   "cell_type": "code",
   "execution_count": null,
   "id": "8f1bd2e4",
   "metadata": {},
   "outputs": [],
   "source": []
  }
 ],
 "metadata": {
  "kernelspec": {
   "display_name": "Python 3 (ipykernel)",
   "language": "python",
   "name": "python3"
  },
  "language_info": {
   "codemirror_mode": {
    "name": "ipython",
    "version": 3
   },
   "file_extension": ".py",
   "mimetype": "text/x-python",
   "name": "python",
   "nbconvert_exporter": "python",
   "pygments_lexer": "ipython3",
   "version": "3.10.9"
  },
  "varInspector": {
   "cols": {
    "lenName": 16,
    "lenType": 16,
    "lenVar": 40
   },
   "kernels_config": {
    "python": {
     "delete_cmd_postfix": "",
     "delete_cmd_prefix": "del ",
     "library": "var_list.py",
     "varRefreshCmd": "print(var_dic_list())"
    },
    "r": {
     "delete_cmd_postfix": ") ",
     "delete_cmd_prefix": "rm(",
     "library": "var_list.r",
     "varRefreshCmd": "cat(var_dic_list()) "
    }
   },
   "types_to_exclude": [
    "module",
    "function",
    "builtin_function_or_method",
    "instance",
    "_Feature"
   ],
   "window_display": false
  }
 },
 "nbformat": 4,
 "nbformat_minor": 5
}
