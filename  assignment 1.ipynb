{
 "cells": [
  {
   "cell_type": "markdown",
   "id": "f8c5ab97",
   "metadata": {},
   "source": [
    "### Basic variables questions"
   ]
  },
  {
   "cell_type": "markdown",
   "id": "242dd852",
   "metadata": {},
   "source": [
    "1 Declare two variables, `x` and `y`, and assign them integer values. Swap the values of these variables without using any temporary variable."
   ]
  },
  {
   "cell_type": "code",
   "execution_count": 1,
   "id": "ea206df3",
   "metadata": {},
   "outputs": [
    {
     "name": "stdout",
     "output_type": "stream",
     "text": [
      "Before swaping x = 20 and y = 30\n",
      "After swaping x = 30 and y = 20\n"
     ]
    }
   ],
   "source": [
    "x = 20\n",
    "\n",
    "y = 30\n",
    "print(\"Before swaping x =\", x, \"and y =\", y)\n",
    "# Swaping\n",
    "x, y = y, x\n",
    "\n",
    "print(\"After swaping x =\", x ,\"and y =\", y )"
   ]
  },
  {
   "cell_type": "markdown",
   "id": "9ab331db",
   "metadata": {},
   "source": [
    "2. Create a program that calculates the area of a rectangle. Take the length and width as inputs from the user and store them in variables. Calculate and display the area.\n"
   ]
  },
  {
   "cell_type": "code",
   "execution_count": 2,
   "id": "2174a985",
   "metadata": {},
   "outputs": [
    {
     "name": "stdout",
     "output_type": "stream",
     "text": [
      "Enter the length of rectangle:43\n",
      "Enter the width of the rectangle:45\n",
      "Area of rectangle is: 176\n"
     ]
    }
   ],
   "source": [
    "len = int(input(\"Enter the length of rectangle:\"))\n",
    "width = int(input(\"Enter the width of the rectangle:\"))\n",
    "area = 2*(len + width )\n",
    "print(\"Area of rectangle is:\", area)"
   ]
  },
  {
   "cell_type": "markdown",
   "id": "6b135b3c",
   "metadata": {},
   "source": [
    "3. Write a Python program that converts temperatures from Celsius to Fahrenheit. Take the temperature in Celsius as input, store it in a variable, convert it to Fahrenheit, and display the result.\n"
   ]
  },
  {
   "cell_type": "code",
   "execution_count": 1,
   "id": "13498ef6",
   "metadata": {},
   "outputs": [
    {
     "name": "stdout",
     "output_type": "stream",
     "text": [
      "Enter temperature value in celsius:67.8\n",
      "Temperature 67.8 degree celsius value converted in to Fahrenheit is : 154.04\n"
     ]
    }
   ],
   "source": [
    "# Formula : (0°C × 9/5) + 32 = 32°F\n",
    "\n",
    "temp = float(input(\"Enter temperature value in celsius:\"))\n",
    "f = (temp * (9/5)) + 32\n",
    "print(\"Temperature\", temp, \"degree celsius value converted in to Fahrenheit is :\", f)"
   ]
  },
  {
   "cell_type": "markdown",
   "id": "d46b7681",
   "metadata": {},
   "source": [
    "### String based questions"
   ]
  },
  {
   "cell_type": "markdown",
   "id": "6c90d3ca",
   "metadata": {},
   "source": [
    "1. Write a Python program that takes a string as input and prints the length of the string.\n"
   ]
  },
  {
   "cell_type": "code",
   "execution_count": 4,
   "id": "c394c2aa",
   "metadata": {},
   "outputs": [
    {
     "name": "stdout",
     "output_type": "stream",
     "text": [
      "Enter a string value:Hare Krishna\n"
     ]
    },
    {
     "data": {
      "text/plain": [
       "12"
      ]
     },
     "execution_count": 4,
     "metadata": {},
     "output_type": "execute_result"
    }
   ],
   "source": [
    "str = input(\"Enter a string value:\")\n",
    "len(str)"
   ]
  },
  {
   "cell_type": "markdown",
   "id": "8f994e9c",
   "metadata": {},
   "source": [
    "2. Create a program that takes a sentence from the user and counts the number of vowels (a, e, i, o, u) in the string.\n"
   ]
  },
  {
   "cell_type": "code",
   "execution_count": 19,
   "id": "c15a1d03",
   "metadata": {},
   "outputs": [
    {
     "name": "stdout",
     "output_type": "stream",
     "text": [
      "Enter a sentence:reversE order Of str Using slIcing\n",
      "total vowels in reversE order Of str Using slIcing is : 10\n"
     ]
    }
   ],
   "source": [
    "str1 = input(\"Enter a sentence:\")\n",
    "count = 0\n",
    "for i in str1:\n",
    "    if (i == 'a' or i == 'e' or i =='i'or i =='o' or i == 'u') or (i == 'A' or i == 'E' or i == 'I' or i== 'O' or i =='U'):\n",
    "        count += 1\n",
    "    \n",
    "print(\"total vowels in\", str1,\"is :\", count)\n",
    "\n"
   ]
  },
  {
   "cell_type": "markdown",
   "id": "e5a44024",
   "metadata": {},
   "source": [
    "### 3. Given a string, reverse the order of characters using string slicing and print the reversed string.\n"
   ]
  },
  {
   "cell_type": "code",
   "execution_count": 14,
   "id": "694c721e",
   "metadata": {},
   "outputs": [
    {
     "data": {
      "text/plain": [
       "'egaugnal gnimmargorp a si nohtyP'"
      ]
     },
     "execution_count": 14,
     "metadata": {},
     "output_type": "execute_result"
    }
   ],
   "source": [
    "str2 = \"Python is a programming language\"\n",
    "str2[::-1]"
   ]
  },
  {
   "cell_type": "markdown",
   "id": "5bf79330",
   "metadata": {},
   "source": [
    "4. Write a program that takes a string as input and checks if it is a palindrome (reads the same forwards and backwards).\n"
   ]
  },
  {
   "cell_type": "code",
   "execution_count": 6,
   "id": "0cc198cc",
   "metadata": {},
   "outputs": [
    {
     "name": "stdout",
     "output_type": "stream",
     "text": [
      "Enter a string value:civic\n",
      "civic is a palindrom\n"
     ]
    }
   ],
   "source": [
    "str3 = input(\"Enter a string value:\")\n",
    "\n",
    "if(str3 == str3[::-1]):\n",
    "    print(str3,\"is a palindrom\")\n",
    "else:\n",
    "    print(str3,\"is not palindrom\")\n",
    "    "
   ]
  },
  {
   "cell_type": "markdown",
   "id": "c532326f",
   "metadata": {},
   "source": [
    "5. Create a program that takes a string as input and removes all the spaces from it. Print the modified string without spaces.\n"
   ]
  },
  {
   "cell_type": "code",
   "execution_count": 10,
   "id": "61b21bd8",
   "metadata": {},
   "outputs": [
    {
     "name": "stdout",
     "output_type": "stream",
     "text": [
      "Enter a string value:hare krishna\n"
     ]
    },
    {
     "data": {
      "text/plain": [
       "'harekrishna'"
      ]
     },
     "execution_count": 10,
     "metadata": {},
     "output_type": "execute_result"
    }
   ],
   "source": [
    "str4 = input(\"Enter a string value:\")\n",
    "str4.replace(\" \", \"\")"
   ]
  },
  {
   "cell_type": "code",
   "execution_count": null,
   "id": "e0747580",
   "metadata": {},
   "outputs": [],
   "source": []
  }
 ],
 "metadata": {
  "kernelspec": {
   "display_name": "Python 3 (ipykernel)",
   "language": "python",
   "name": "python3"
  },
  "language_info": {
   "codemirror_mode": {
    "name": "ipython",
    "version": 3
   },
   "file_extension": ".py",
   "mimetype": "text/x-python",
   "name": "python",
   "nbconvert_exporter": "python",
   "pygments_lexer": "ipython3",
   "version": "3.10.9"
  },
  "varInspector": {
   "cols": {
    "lenName": 16,
    "lenType": 16,
    "lenVar": 40
   },
   "kernels_config": {
    "python": {
     "delete_cmd_postfix": "",
     "delete_cmd_prefix": "del ",
     "library": "var_list.py",
     "varRefreshCmd": "print(var_dic_list())"
    },
    "r": {
     "delete_cmd_postfix": ") ",
     "delete_cmd_prefix": "rm(",
     "library": "var_list.r",
     "varRefreshCmd": "cat(var_dic_list()) "
    }
   },
   "types_to_exclude": [
    "module",
    "function",
    "builtin_function_or_method",
    "instance",
    "_Feature"
   ],
   "window_display": false
  }
 },
 "nbformat": 4,
 "nbformat_minor": 5
}
