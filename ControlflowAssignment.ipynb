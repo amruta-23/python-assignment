{
  "nbformat": 4,
  "nbformat_minor": 0,
  "metadata": {
    "colab": {
      "provenance": [],
      "authorship_tag": "ABX9TyN2YhQsyIM34m3IR25Wwrb4",
      "include_colab_link": true
    },
    "kernelspec": {
      "name": "python3",
      "display_name": "Python 3"
    },
    "language_info": {
      "name": "python"
    }
  },
  "cells": [
    {
      "cell_type": "markdown",
      "metadata": {
        "id": "view-in-github",
        "colab_type": "text"
      },
      "source": [
        "<a href=\"https://colab.research.google.com/github/amruta-23/python-assignment/blob/main/ControlflowAssignment.ipynb\" target=\"_parent\"><img src=\"https://colab.research.google.com/assets/colab-badge.svg\" alt=\"Open In Colab\"/></a>"
      ]
    },
    {
      "cell_type": "markdown",
      "source": [
        "Basic If-Else Statements:"
      ],
      "metadata": {
        "id": "K96LdEi2NoDb"
      }
    },
    {
      "cell_type": "markdown",
      "source": [
        "1. Write a Python program to check if a given number is positive or negative."
      ],
      "metadata": {
        "id": "n66hOTLfN0an"
      }
    },
    {
      "cell_type": "code",
      "source": [
        "n = int(input(\"Enter number:\"))\n",
        "if(n>0):\n",
        "  print(\"given number is positive\")\n",
        "else:\n",
        "  print(\"given number is nagative\")"
      ],
      "metadata": {
        "id": "3C1bORkCLhlM",
        "outputId": "d818ca57-38fa-43f7-e01f-9d2a754daa4c",
        "colab": {
          "base_uri": "https://localhost:8080/"
        }
      },
      "execution_count": null,
      "outputs": [
        {
          "output_type": "stream",
          "name": "stdout",
          "text": [
            "Enter number:67\n",
            "given number is positive\n"
          ]
        }
      ]
    },
    {
      "cell_type": "markdown",
      "source": [
        "2. Create a program that determines if a person is eligible to vote based on their age."
      ],
      "metadata": {
        "id": "FGDcVAzBPR_p"
      }
    },
    {
      "cell_type": "code",
      "execution_count": null,
      "metadata": {
        "colab": {
          "base_uri": "https://localhost:8080/"
        },
        "id": "_YLBABnjKEet",
        "outputId": "d99f5243-d0b5-4111-bcb4-1fcd9e5b0af6"
      },
      "outputs": [
        {
          "output_type": "stream",
          "name": "stdout",
          "text": [
            "enter age:67\n",
            "Eligible for vote\n"
          ]
        }
      ],
      "source": [
        "age = int(input(\"enter age:\"))\n",
        "\n",
        "if (age > 18):\n",
        "  print(\"Eligible for vote\")\n",
        "else:\n",
        "  print(\"Not eligible for vote\")"
      ]
    },
    {
      "cell_type": "markdown",
      "source": [
        "3. Develop a program to find the maximum of two numbers using if-else statements."
      ],
      "metadata": {
        "id": "Dv5ShwxTRpIM"
      }
    },
    {
      "cell_type": "code",
      "source": [
        "n1 = 54\n",
        "n2 = 98\n",
        "if(n1 > n2):\n",
        "  print(\" max is n1\", n1)\n",
        "else:\n",
        "  print(\"max is n2\", n2)"
      ],
      "metadata": {
        "colab": {
          "base_uri": "https://localhost:8080/"
        },
        "id": "8NATbrus60Yh",
        "outputId": "33306f08-74b6-4b3b-d3fb-e47592b5bd0a"
      },
      "execution_count": null,
      "outputs": [
        {
          "output_type": "stream",
          "name": "stdout",
          "text": [
            "max is n2 98\n"
          ]
        }
      ]
    },
    {
      "cell_type": "markdown",
      "source": [
        "4. Write a Python script to classify a given year as a leap year or not."
      ],
      "metadata": {
        "id": "kBM0xn8kSWwF"
      }
    },
    {
      "cell_type": "code",
      "source": [
        "year = int(input(\"enter year more than 1900 and less than 2030:\"))\n",
        "\n",
        "if not(2030 > year > 1900):\n",
        "  print(\"enter proper year\")\n",
        "elif(year % 4 == 0):\n",
        "  print(\"leap year\")\n",
        "else:\n",
        "  print(\"not a leap year\")"
      ],
      "metadata": {
        "id": "37fnTcS97kUw",
        "colab": {
          "base_uri": "https://localhost:8080/"
        },
        "outputId": "70fc5a9d-c5c3-4a2c-ce0b-a2dd6891f612"
      },
      "execution_count": null,
      "outputs": [
        {
          "output_type": "stream",
          "name": "stdout",
          "text": [
            "enter year more than 1900 and less than 2030:1998\n",
            "not a leap year\n"
          ]
        }
      ]
    },
    {
      "cell_type": "markdown",
      "source": [
        "5. Create a program that checks whether a character is a vowel or a consonant."
      ],
      "metadata": {
        "id": "yIEI6hBcVF52"
      }
    },
    {
      "cell_type": "code",
      "source": [
        "c = input(\"enter a only alphabets:\")\n",
        "str = 'aeiouAEIOU'\n",
        "\n",
        "if (c.isalpha() == False):\n",
        "  print(\"enter alphabets\")\n",
        "elif(c in str):\n",
        "  print(\"vowel\")\n",
        "else:\n",
        "  print(\"consonant\")\n"
      ],
      "metadata": {
        "colab": {
          "base_uri": "https://localhost:8080/"
        },
        "id": "W48UirIcGEcj",
        "outputId": "451d645f-d28c-41b0-951e-2fbd96d9ea71"
      },
      "execution_count": null,
      "outputs": [
        {
          "output_type": "stream",
          "name": "stdout",
          "text": [
            "enter a only alphabets:h\n",
            "consonant\n"
          ]
        }
      ]
    },
    {
      "cell_type": "markdown",
      "source": [
        "6. Implement a program to determine whether a given number is even or odd."
      ],
      "metadata": {
        "id": "UmHH_VFoXjSE"
      }
    },
    {
      "cell_type": "code",
      "source": [
        "num = int(input(\"enter a number:\"))\n",
        "if(num % 2 == 0):\n",
        "  print(\"even number\")\n",
        "else:\n",
        "  print(\"odd number\")\n"
      ],
      "metadata": {
        "colab": {
          "base_uri": "https://localhost:8080/"
        },
        "id": "WOqUJ8r6Gg7l",
        "outputId": "2b375300-dc21-440f-dbfe-bcd3a2a9257b"
      },
      "execution_count": null,
      "outputs": [
        {
          "output_type": "stream",
          "name": "stdout",
          "text": [
            "enter a number:79\n",
            "odd number\n"
          ]
        }
      ]
    },
    {
      "cell_type": "markdown",
      "source": [
        "7. Write a Python function to calculate the absolute value of a number without using the `abs()` function."
      ],
      "metadata": {
        "id": "Zv82fqwAYckK"
      }
    },
    {
      "cell_type": "code",
      "source": [
        "num = int(input(\"enter number:\"))\n",
        "\n",
        "if(int(num) > 0 or int(num) < 0):\n",
        "  print(\"absolute numer is:\", num)\n",
        "else:\n",
        "  print(\"check entered number\")\n",
        "\n",
        "\n"
      ],
      "metadata": {
        "colab": {
          "base_uri": "https://localhost:8080/"
        },
        "id": "-vsA40ywH1ZX",
        "outputId": "00f5fdc9-dd3c-40cd-83a3-6861692477e6"
      },
      "execution_count": null,
      "outputs": [
        {
          "output_type": "stream",
          "name": "stdout",
          "text": [
            "enter number:-9\n",
            "absolute numer is: -9\n"
          ]
        }
      ]
    },
    {
      "cell_type": "markdown",
      "source": [
        "8. Develop a program that determines the largest of three given numbers using if-else statements."
      ],
      "metadata": {
        "id": "KYN3Yll0dOql"
      }
    },
    {
      "cell_type": "code",
      "source": [
        "n1 = 43\n",
        "n2 = 67\n",
        "n3 = 98\n",
        "\n",
        "if(n1 > n2 and n1 > n3):\n",
        "  print(\"n1 is largest\", n1)\n",
        "\n",
        "elif(n2>n3):\n",
        "  print(\"n2 is lagest\", n2)\n",
        "\n",
        "else:\n",
        "  print(\"n3 is largest\", n3)\n"
      ],
      "metadata": {
        "colab": {
          "base_uri": "https://localhost:8080/"
        },
        "id": "GruA3e33JLJT",
        "outputId": "fac09468-d6e1-49cb-db5b-0b938d15e37a"
      },
      "execution_count": null,
      "outputs": [
        {
          "output_type": "stream",
          "name": "stdout",
          "text": [
            "n3 is largest 98\n"
          ]
        }
      ]
    },
    {
      "cell_type": "markdown",
      "source": [
        "9. Create a program that checks if a given string is a palindrome."
      ],
      "metadata": {
        "id": "hRguRqtXhCtE"
      }
    },
    {
      "cell_type": "code",
      "source": [
        "str = input(\"enter string:\")\n",
        "\n",
        "if(str == str[::-1]):\n",
        "  print(\"palindrome\")\n",
        "else:\n",
        "  print(\"not palindrome\")"
      ],
      "metadata": {
        "colab": {
          "base_uri": "https://localhost:8080/"
        },
        "id": "-jBZ2V8jJwQq",
        "outputId": "3167e8f1-18eb-44c1-9318-01e1816f658e"
      },
      "execution_count": null,
      "outputs": [
        {
          "output_type": "stream",
          "name": "stdout",
          "text": [
            "enter string:civic\n",
            "palindrome\n"
          ]
        }
      ]
    },
    {
      "cell_type": "markdown",
      "source": [
        "10. Write a Python program to calculate the grade based on a student's score."
      ],
      "metadata": {
        "id": "38cINqvkiKJr"
      }
    },
    {
      "cell_type": "code",
      "source": [
        "print(\"enter all subject marks:\")\n",
        "eng = int(input())\n",
        "kan = int(input())\n",
        "hindi = int(input())\n",
        "math = int(input())\n",
        "sci = int(input())\n",
        "sst = int(input())\n",
        "total = eng + kan + hindi + math + sci + sst\n",
        "avg = total / 5\n",
        "print(\"total\", total)\n",
        "print(\"avg\", avg)\n",
        "\n",
        "if (avg>=91 and avg<=100):\n",
        "    print(\"Your Grade is A1\")\n",
        "elif (avg>=81 and avg<91):\n",
        "    print(\"Your Grade is A2\")\n",
        "elif (avg>=71 and avg<81):\n",
        "    print(\"Your Grade is B1\")\n",
        "elif (avg>=61 and avg<71):\n",
        "    print(\"Your Grade is B2\")\n",
        "elif (avg>=51 and avg<61):\n",
        "    print(\"Your Grade is C1\")\n",
        "elif (avg>=41 and avg<51):\n",
        "    print(\"Your Grade is C2\")\n",
        "elif (avg>=30 and avg<41):\n",
        "    print(\"Your Grade is D\")\n",
        "elif (avg>=0 and avg<30):\n",
        "  print(\"Your Grade is E\")\n",
        "else:\n",
        "  print(\"Invalid inputs\")\n"
      ],
      "metadata": {
        "id": "Xw5m5O3RKNo1",
        "colab": {
          "base_uri": "https://localhost:8080/"
        },
        "outputId": "b465be89-c1d6-405b-9a29-1ed182edd147"
      },
      "execution_count": null,
      "outputs": [
        {
          "output_type": "stream",
          "name": "stdout",
          "text": [
            "enter all subject marks:\n",
            "98\n",
            "78\n",
            "87\n",
            "99\n",
            "89\n",
            "92\n",
            "total 543\n",
            "avg 108.6\n",
            "Invalid inputs\n"
          ]
        }
      ]
    },
    {
      "cell_type": "markdown",
      "source": [
        "Nested If-Else Statements:"
      ],
      "metadata": {
        "id": "MMQnUQBQKGrI"
      }
    },
    {
      "cell_type": "markdown",
      "source": [
        ":\n",
        "\n",
        "\n",
        "\n",
        "11. Write a program to find the largest among three numbers using nested if-else statements."
      ],
      "metadata": {
        "id": "nL7uNXMOPZ4q"
      }
    },
    {
      "cell_type": "code",
      "source": [
        "n1 = 43\n",
        "n2 = 67\n",
        "n3 = 98\n",
        "\n",
        "if(n1 > n2 and n1 > n3):\n",
        "  print(\"n1 is greater \",n1)\n",
        "#else:\n",
        " # print(\"n1 is smaller\", n1)\n",
        "if(n2 > n3 and n2 > n1):\n",
        "  print(\"n2 is greater \", n2)\n",
        "#else:\n",
        " # print(\"n2 is smaller\", n2)\n",
        "if(n3 > n2 and n3 > n1):\n",
        "  print(\"n3 is greater\", n3)\n",
        "else:\n",
        "  print(\"n2 or n1 is greater\")\n",
        "\n"
      ],
      "metadata": {
        "id": "tZmi1vB5M3Lp",
        "colab": {
          "base_uri": "https://localhost:8080/"
        },
        "outputId": "34026289-c785-4b44-e67d-c8bd9e95572a"
      },
      "execution_count": null,
      "outputs": [
        {
          "output_type": "stream",
          "name": "stdout",
          "text": [
            "n3 is greater 98\n"
          ]
        }
      ]
    },
    {
      "cell_type": "markdown",
      "source": [
        "12. Implement a program to determine if a triangle is equilateral, isosceles, or scalene."
      ],
      "metadata": {
        "id": "zBTq5Ck_W-L3"
      }
    },
    {
      "cell_type": "code",
      "source": [
        "print(\"enter sides and angles of a triangle\")\n",
        "ang1 = int(input(\"ang1:\"))\n",
        "ang2 = int(input(\"ang2:\"))\n",
        "ang3 = int(input(\"ang3:\"))\n",
        "side1 = int(input(\"side1:\"))\n",
        "side2 = int(input(\"side2:\"))\n",
        "side3= int(input(\"side3:\"))\n",
        "if(ang1 == ang2 == ang3) and (side1 == side2 == side3):\n",
        "  print(\"equilateral\")\n",
        "if(ang1 == ang2 or ang1 == ang3 or  ang2 == ang3):\n",
        "  print(\"isosceles\")\n",
        "else:\n",
        "  print(\"scalene\")\n"
      ],
      "metadata": {
        "colab": {
          "base_uri": "https://localhost:8080/"
        },
        "id": "EldZ8uPoUJ3v",
        "outputId": "74b5b9cb-a88d-4cdc-f69b-0c7393c74f28"
      },
      "execution_count": null,
      "outputs": [
        {
          "output_type": "stream",
          "name": "stdout",
          "text": [
            "enter sides and angles of a triangle\n",
            "ang1:78\n",
            "ang2:90\n",
            "ang3:7\n",
            "side1:12\n",
            "side2:45\n",
            "side3:56\n",
            "scalene\n"
          ]
        }
      ]
    },
    {
      "cell_type": "markdown",
      "source": [
        "13. Develop a program that checks if a year is a leap year and also if it is a century year."
      ],
      "metadata": {
        "id": "WTB5VWJaahmb"
      }
    },
    {
      "cell_type": "code",
      "source": [
        "year = int(input(\"Enter year number:\"))\n",
        "\n",
        "if (year <= 0):\n",
        "  print(\"0 and nagative year not allowed.\")\n",
        "elif (year <= 100 and year % 4 == 0):\n",
        "  print(\"1st century & also leap year\")\n",
        "elif(year % 100 == 0 and year % 4 == 0):\n",
        "  print(year // 100, \"century, also a leap year\")\n",
        "else:\n",
        "  print(year // 100 + 1, \"century, not a leap year\")\n",
        "\n",
        "\n",
        "\n"
      ],
      "metadata": {
        "id": "EylWVeDFdMRy",
        "colab": {
          "base_uri": "https://localhost:8080/"
        },
        "outputId": "23765563-9ee0-4223-a8d2-2b23a5197007"
      },
      "execution_count": null,
      "outputs": [
        {
          "output_type": "stream",
          "name": "stdout",
          "text": [
            "Enter year number:127\n",
            "2 century, not a leap year\n"
          ]
        }
      ]
    },
    {
      "cell_type": "markdown",
      "source": [
        "14. Write a Python script to determine if a number is positive, negative, or zero."
      ],
      "metadata": {
        "id": "Zs0udFg7grZ2"
      }
    },
    {
      "cell_type": "code",
      "source": [
        "num = int(input(\"Enter  number\"))\n",
        "\n",
        "if(num == 0):\n",
        "  print(num, \"is zero\")\n",
        "elif(num > 0):\n",
        "  print(num, \"is positive\")\n",
        "else:\n",
        "  print(num, \"is negative\")"
      ],
      "metadata": {
        "colab": {
          "base_uri": "https://localhost:8080/"
        },
        "id": "xZXQGXZ1ctGK",
        "outputId": "4b738b0d-585a-4eb9-8892-1ef82faae777"
      },
      "execution_count": null,
      "outputs": [
        {
          "output_type": "stream",
          "name": "stdout",
          "text": [
            "Enter  number-89\n",
            "-89 is negative\n"
          ]
        }
      ]
    },
    {
      "cell_type": "markdown",
      "source": [
        "15. Create a program to check if a person is a teenager (between 13 and 19 years old).\n"
      ],
      "metadata": {
        "id": "qDefxVOGioMx"
      }
    },
    {
      "cell_type": "code",
      "source": [
        "age = int(input(\"Enter age:\"))\n",
        "\n",
        "if (age <= 0):\n",
        "  print(\"enter age greater then 1\")\n",
        "elif(19 >= age >= 13):\n",
        "  print(\"person is teenager\")\n",
        "else:\n",
        "  print(\"person is not teenager\")"
      ],
      "metadata": {
        "colab": {
          "base_uri": "https://localhost:8080/"
        },
        "id": "cGdd3L4ZdGG7",
        "outputId": "f3f5ef93-58c5-41b6-87e6-13aa9c2baf6e"
      },
      "execution_count": null,
      "outputs": [
        {
          "output_type": "stream",
          "name": "stdout",
          "text": [
            "Enter age:20\n",
            "person is not teenager\n"
          ]
        }
      ]
    },
    {
      "cell_type": "markdown",
      "source": [
        "16. Develop a program that determines the type of angle based on its measure (acute, obtuse, or right)."
      ],
      "metadata": {
        "id": "1vV6aeEXwFGp"
      }
    },
    {
      "cell_type": "code",
      "source": [
        "angle = int(input(\"enter angle:\"))\n",
        "\n",
        "if(angle <= 0):\n",
        "  print(\"enter angle greater then 0\")\n",
        "elif( 1 <= angle < 90):\n",
        "  print(\"acute angle\")\n",
        "elif(90 < angle < 180):\n",
        "  print(\"obtuse angle\")\n",
        "elif(angle == 90):\n",
        "  print(\"right angle\")"
      ],
      "metadata": {
        "colab": {
          "base_uri": "https://localhost:8080/"
        },
        "id": "CjuVApnGvMel",
        "outputId": "37de88cb-ab15-4a5d-fdad-407643dbceed"
      },
      "execution_count": null,
      "outputs": [
        {
          "output_type": "stream",
          "name": "stdout",
          "text": [
            "enter angle:120\n",
            "obtuse angle\n"
          ]
        }
      ]
    },
    {
      "cell_type": "markdown",
      "source": [
        "17. Write a Python program to calculate the roots of a quadratic equation.\n",
        "\n",
        "![Screenshot 2023-09-24 115811.png](data:image/png;base64,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)"
      ],
      "metadata": {
        "id": "7WP0CF_1zCvZ"
      }
    },
    {
      "cell_type": "code",
      "source": [
        "import cmath\n",
        "a = int(input(\"enter a:\"))\n",
        "b = int(input(\"enter b:\"))\n",
        "c = int(input(\"enter c:\"))\n",
        "\n",
        "d = (b ** 2) - (4*a*c)\n",
        "\n",
        "root1 = (-b + cmath.sqrt(d))/(2*a)\n",
        "root2 = (-b - cmath.sqrt(d))/(2*a)\n",
        "print(\"roots of quadratic equation are:\", root1, root2)\n",
        "\n",
        "if(d > 0):\n",
        "  print(\"roots are real and different\")\n",
        "elif(d == 0):\n",
        "  print(\"roots are same\")\n",
        "else:\n",
        "  print(\"roots are complex\")"
      ],
      "metadata": {
        "colab": {
          "base_uri": "https://localhost:8080/"
        },
        "id": "1thpYzCBxrxd",
        "outputId": "12fa2dbf-18e5-450a-8c38-52c7ed1a1712"
      },
      "execution_count": null,
      "outputs": [
        {
          "output_type": "stream",
          "name": "stdout",
          "text": [
            "enter a:8\n",
            "enter b:9\n",
            "enter c:7\n",
            "roots of quadratic equation are: (-0.5625+0.7473912964438374j) (-0.5625-0.7473912964438374j)\n",
            "roots are complex\n"
          ]
        }
      ]
    },
    {
      "cell_type": "markdown",
      "source": [
        "18. Implement a program to determine the day of the week based on a user-provided number (1 for Monday, 2\n",
        "for Tuesday, etc.)"
      ],
      "metadata": {
        "id": "Gz-TuB2BIRaH"
      }
    },
    {
      "cell_type": "code",
      "source": [
        "day_of_week = int(input(\"enter day 1 to 7:\"))\n",
        "\n",
        "if(day_of_week <= 0):\n",
        "  print(\"enter number only 1 to 7\")\n",
        "elif(day_of_week == 1):\n",
        "  print(\"sunday\")\n",
        "elif(day_of_week == 2):\n",
        "  print(\"monday\")\n",
        "elif(day_of_week == 3):\n",
        "  print(\"tuesday\")\n",
        "elif(day_of_week == 4):\n",
        "  print(\"wednsday\")\n",
        "elif(day_of_week == 5):\n",
        "  print(\"thursday\")\n",
        "elif(day_of_week == 6):\n",
        "  print(\"friday\")\n",
        "elif(day_of_week == 7):\n",
        "  print(\"saturday\")\n",
        "else:\n",
        "  print(\"Enter proper number\")\n"
      ],
      "metadata": {
        "colab": {
          "base_uri": "https://localhost:8080/"
        },
        "id": "H2nOBlT_443O",
        "outputId": "cb37fe41-fa50-49cc-f59f-9a7b252434ee"
      },
      "execution_count": null,
      "outputs": [
        {
          "output_type": "stream",
          "name": "stdout",
          "text": [
            "enter day 1 to 7:7\n",
            "saturday\n"
          ]
        }
      ]
    },
    {
      "cell_type": "markdown",
      "source": [
        "19. Create a program that determines if a year is a leap year and also if it is evenly divisible by 400."
      ],
      "metadata": {
        "id": "DJ7pylr9LV3U"
      }
    },
    {
      "cell_type": "code",
      "source": [
        "\n",
        "\n",
        "year = int(input(\"Enter a year: \"))\n",
        "\n",
        "\n",
        "if (year % 4 == 0):\n",
        "  if (year % 400 == 0):\n",
        "    print(\"{year} is a leap year and is evenly divisible by 400.\")\n",
        "\n",
        "  else:\n",
        "    print(\"{year} is not a leap year and is not evenly divisible by 400.\")"
      ],
      "metadata": {
        "id": "FAtMNu6ZLJbN",
        "colab": {
          "base_uri": "https://localhost:8080/"
        },
        "outputId": "9ab61457-62fb-40e0-b315-f97b29fb828b"
      },
      "execution_count": null,
      "outputs": [
        {
          "output_type": "stream",
          "name": "stdout",
          "text": [
            "Enter a year: 2000\n",
            "{year} is a leap year and is evenly divisible by 400.\n"
          ]
        }
      ]
    },
    {
      "cell_type": "markdown",
      "source": [
        "20. Develop a program that checks if a given number is prime or not using nested if-else statements."
      ],
      "metadata": {
        "id": "-qQBbabBTsQx"
      }
    },
    {
      "cell_type": "code",
      "source": [
        "num = int(input(\"enter number:\"))\n",
        "\n",
        "if (num != 0):\n",
        "  if(num >1):\n",
        "    for i in range(2, num):\n",
        "      if(num % i == 0):\n",
        "        print(\"Not a prime number\")\n",
        "        break\n",
        "      else:\n",
        "        print(\" prime number\")\n",
        "        break\n",
        "\n"
      ],
      "metadata": {
        "colab": {
          "base_uri": "https://localhost:8080/"
        },
        "id": "a978hS7XM7oZ",
        "outputId": "c14ff724-3c6d-4a57-8c83-340e8dfd91cb"
      },
      "execution_count": null,
      "outputs": [
        {
          "output_type": "stream",
          "name": "stdout",
          "text": [
            "enter number:40\n",
            "Not a prime number\n"
          ]
        }
      ]
    },
    {
      "cell_type": "markdown",
      "source": [
        "### Elif Statements:"
      ],
      "metadata": {
        "id": "tivnzKAfYv-0"
      }
    },
    {
      "cell_type": "markdown",
      "source": [
        "21. Write a Python program to assign grades based on different ranges of scores using elif statements."
      ],
      "metadata": {
        "id": "yLt9gNviY5WI"
      }
    },
    {
      "cell_type": "code",
      "source": [
        "print(\"enter all subject marks:\")\n",
        "eng = int(input())\n",
        "kan = int(input())\n",
        "hindi = int(input())\n",
        "math = int(input())\n",
        "sci = int(input())\n",
        "sst = int(input())\n",
        "total = eng + kan + hindi + math + sci + sst\n",
        "avg = total / 6\n",
        "print(\"total\", total)\n",
        "print(\"avg\", avg)\n",
        "\n",
        "if (avg>=91 and avg<=100):\n",
        "    print(\"Your Grade is A+\")\n",
        "elif (avg>=81 and avg<91):\n",
        "    print(\"Your Grade is A\")\n",
        "elif (avg>=71 and avg<81):\n",
        "    print(\"Your Grade is B+\")\n",
        "elif (avg>=61 and avg<71):\n",
        "    print(\"Your Grade is B\")\n",
        "elif (avg>=51 and avg<61):\n",
        "    print(\"Your Grade is C+\")\n",
        "elif (avg>=41 and avg<51):\n",
        "    print(\"Your Grade is C\")\n",
        "elif (avg>=30 and avg<41):\n",
        "    print(\"Your Grade is D\")\n",
        "else:\n",
        "  print(\"Your Grade is E\")\n",
        "\n"
      ],
      "metadata": {
        "id": "eGHoTlclNAE7",
        "colab": {
          "base_uri": "https://localhost:8080/"
        },
        "outputId": "3350ebb1-a754-4c30-983b-62d1cd9e335c"
      },
      "execution_count": null,
      "outputs": [
        {
          "output_type": "stream",
          "name": "stdout",
          "text": [
            "enter all subject marks:\n",
            "98\n",
            "97\n",
            "95\n",
            "94\n",
            "93\n",
            "92\n",
            "total 569\n",
            "avg 94.83333333333333\n",
            "Your Grade is A+\n"
          ]
        }
      ]
    },
    {
      "cell_type": "markdown",
      "source": [
        "22.  Implement a program to determine the type of a triangle based on its angles.\n",
        "\n"
      ],
      "metadata": {
        "id": "GdW1QK9jZrZt"
      }
    },
    {
      "cell_type": "code",
      "source": [
        "angle1 = int(input(\"Enter angle1: \"))\n",
        "angle2 = int(input(\"Enter angle2: \"))\n",
        "angle3 = int(input(\"Enter angle3: \"))\n",
        "\n",
        "if angle1 + angle2 + angle3 != 180:\n",
        "    print(\"These angles do not form a valid triangle.\")\n",
        "elif angle1 == angle2 == angle3:\n",
        "    print(\"Equilateral triangle\")\n",
        "elif angle1 == angle2 or angle2 == angle3 or angle1 == angle3:\n",
        "    print(\"Isosceles triangle\")\n",
        "else:\n",
        "    print(\"Scalene triangle\")\n"
      ],
      "metadata": {
        "id": "K-yLpX3hcmik",
        "colab": {
          "base_uri": "https://localhost:8080/"
        },
        "outputId": "0ea934dc-8daa-41b1-bb93-bec0a2c11799"
      },
      "execution_count": null,
      "outputs": [
        {
          "output_type": "stream",
          "name": "stdout",
          "text": [
            "Enter angle1: 50\n",
            "Enter angle2: 50\n",
            "Enter angle3: 80\n",
            "Isosceles triangle\n"
          ]
        }
      ]
    },
    {
      "cell_type": "markdown",
      "source": [
        "23. Develop a program to categorize a given person's BMI into underweight, normal, overweight, or obese using\n",
        "elif statements.\n",
        "\n",
        "\n",
        "If your BMI is less than 18.5, it falls within the underweight range. If your BMI is 18.5 to <25, it falls within the healthy weight range. If your BMI is 25.0 to <30, it falls within the overweight range. If your BMI is 30.0 or higher, it falls within the obesity range."
      ],
      "metadata": {
        "id": "Fzn3meZcbIpV"
      }
    },
    {
      "cell_type": "code",
      "source": [
        "BMI = float(input(\"Enter BMI value:\"))\n",
        "\n",
        "if (25 > BMI >= 18.5 ):\n",
        "  print(\"Healthy weight\")\n",
        "elif (30 > BMI >= 25):\n",
        "  print(\"Overweight\")\n",
        "elif (BMI >= 30.0):\n",
        "  print(\"Obesity\")\n",
        "else:\n",
        "  print(\"Underweight\")"
      ],
      "metadata": {
        "colab": {
          "base_uri": "https://localhost:8080/"
        },
        "id": "v91HYm0MaXCW",
        "outputId": "d97b7abf-14d8-4031-e8a5-0fef6c31e45a"
      },
      "execution_count": null,
      "outputs": [
        {
          "output_type": "stream",
          "name": "stdout",
          "text": [
            "Enter BMI value:18.5\n",
            "Healthy weight\n"
          ]
        }
      ]
    },
    {
      "cell_type": "markdown",
      "source": [
        "24. Create a program that determines whether a given number is positive, negative, or zero using elif\n",
        "statements."
      ],
      "metadata": {
        "id": "5AAMo4ngbVdX"
      }
    },
    {
      "cell_type": "code",
      "source": [
        "try:\n",
        "  num = int(input(\"enter number:\"))\n",
        "\n",
        "  if num > 0:\n",
        "    print(\"number is +ve\")\n",
        "  elif num < 0:\n",
        "    print(\"number is -ve\")\n",
        "  else:\n",
        "    print(\"number is zero\")\n",
        "except:\n",
        "  pass\n",
        "  print(\"enter only whole number\")"
      ],
      "metadata": {
        "colab": {
          "base_uri": "https://localhost:8080/"
        },
        "id": "VVzy42zZiFM9",
        "outputId": "7372b2c3-d837-4076-d0da-6453b79c9c9a"
      },
      "execution_count": null,
      "outputs": [
        {
          "output_type": "stream",
          "name": "stdout",
          "text": [
            "enter number:9\n",
            "number is +ve\n"
          ]
        }
      ]
    },
    {
      "cell_type": "markdown",
      "source": [
        "25. Write a Python script to determine the type of a character (uppercase, lowercase, or special) using elif\n",
        "statements."
      ],
      "metadata": {
        "id": "vTNhB0w-cGxI"
      }
    },
    {
      "cell_type": "code",
      "source": [
        "\n",
        "  char = input(\"Enter charcter:\")\n",
        "\n",
        "\n",
        "\n",
        "  if (char.isupper()):\n",
        "    print(\"char is in uppercase\")\n",
        "  elif (char.islower()):\n",
        "    print(\"char is in lowercase\")\n",
        "  elif (not char.isalpha() and not char.isdigit()):\n",
        "    print(\"special character\")\n",
        "  else:\n",
        "    print(\"char is string\")\n",
        "\n",
        "\n",
        "\n",
        "\n"
      ],
      "metadata": {
        "colab": {
          "base_uri": "https://localhost:8080/"
        },
        "id": "GHRo5PERMaAG",
        "outputId": "2ca099db-8752-4cb9-a69a-3b8eeba9e1f8"
      },
      "execution_count": null,
      "outputs": [
        {
          "output_type": "stream",
          "name": "stdout",
          "text": [
            "Enter charcter:U\n",
            "char is in uppercase\n"
          ]
        }
      ]
    },
    {
      "cell_type": "markdown",
      "source": [
        "26. Implement a program to calculate the discounted price based on different purchase amounts using elif\n",
        "statements"
      ],
      "metadata": {
        "id": "XvLR-Z0zcNMK"
      }
    },
    {
      "cell_type": "code",
      "source": [
        "puramt = float(input(\"enter purchased amount:\"))\n",
        "\n",
        "if(puramt > 10000):\n",
        "  disc = (puramt * 10) / 100\n",
        "  print(\"For 10k purchase 10% discount. \", disc)\n",
        "elif(10000 > puramt >= 8000 ):\n",
        "  disc =(puramt * 5)/ 100\n",
        "  print(\"For purchase amount below than 10000 and above 8000, 5% discount:\", disc)\n",
        "elif(8000 > puramt >= 5000):\n",
        "  disc = ( puramt * 2) / 100\n",
        "  print(\"For purchase amout below than 8000 and above and equal to 5k 2% discount\", disc)\n",
        "else:\n",
        "  print(\"no discount\")"
      ],
      "metadata": {
        "id": "h71VA7rKqHQd",
        "colab": {
          "base_uri": "https://localhost:8080/"
        },
        "outputId": "ba3eaa7b-7ac2-456a-bb30-c81c519c934c"
      },
      "execution_count": null,
      "outputs": [
        {
          "output_type": "stream",
          "name": "stdout",
          "text": [
            "enter purchased amount:5897.89\n",
            "For purchase amout below than 8000 and above and equal to 5k 2% discount 117.9578\n"
          ]
        }
      ]
    },
    {
      "cell_type": "markdown",
      "source": [
        "27. Develop a program to calculate the electricity bill based on different consumption slabs using elif\n",
        "statements."
      ],
      "metadata": {
        "id": "FSvEUDcFcYCi"
      }
    },
    {
      "cell_type": "markdown",
      "source": [
        "Unit Consumed x Unit Rate = pay amount\n",
        "\n",
        "1 - 100 unit - 1.5/= pay amount\n",
        "\n",
        "(fixed charge 25)\n",
        "\n",
        "101-200 unit - 2.5/=\n",
        "\n",
        "(fixed charge 50)\n",
        "\n",
        "201-300 unit - 4/=\n",
        "\n",
        "(fixed charge 75)\n",
        "\n",
        "300 - 350 unit - 5/=\n",
        "\n",
        "(fixed charge 100)\n",
        "\n",
        "\n",
        "above 300 - fixed charge 1500/\n",
        "\n",
        "\n",
        "\n",
        "Total=(payAmount+fixedcharge) * tax;\n",
        "\n",
        "\n",
        "\n",
        "\n"
      ],
      "metadata": {
        "id": "WUfsZCwOd3Rw"
      }
    },
    {
      "cell_type": "code",
      "source": [
        "\n",
        "units=int(input(\"please enter the number of units you consumed in a month:\"))\n",
        "if(units<=100):\n",
        "    payAmount=units*1.5\n",
        "    fixedcharge=25.00\n",
        "elif(units<=200):\n",
        "    payAmount=(100*1.5)+(units-100)*2.5\n",
        "    fixedcharge=50.00\n",
        "elif(units<=300):\n",
        "    payAmount=(100*1.5)+(200-100)*2.5+(units-200)*4\n",
        "    fixedcharge=75.00\n",
        "elif(units<=350):\n",
        "    payAmount=(100*1.5)+(200-100)*2.5+(300-200)*4+(units-300)*5\n",
        "    fixedcharge=100.00\n",
        "else:\n",
        "    payAmount=0\n",
        "    fixedcharge=1500.00\n",
        "\n",
        "tax = 9 / 100\n",
        "Total=(payAmount+fixedcharge) * tax;\n",
        "print(\"\\nElecticity bill=%.2f\" %Total)"
      ],
      "metadata": {
        "colab": {
          "base_uri": "https://localhost:8080/"
        },
        "id": "VdDc5TKEkDWU",
        "outputId": "2c8fc540-be9f-4bbc-889e-116eeff775f9"
      },
      "execution_count": null,
      "outputs": [
        {
          "output_type": "stream",
          "name": "stdout",
          "text": [
            "please enter the number of units you consumed in a month:380\n",
            "\n",
            "Electicity bill=135.00\n"
          ]
        }
      ]
    },
    {
      "cell_type": "markdown",
      "source": [
        "28. Create a program to determine the type of quadrilateral based on its angles and sides using elif\n",
        "statements."
      ],
      "metadata": {
        "id": "Z5HgMP1Lcct5"
      }
    },
    {
      "cell_type": "code",
      "source": [
        "s1 = int(input(\"side1:\"))\n",
        "s2 = int(input(\"side2:\"))\n",
        "s3 = int(input(\"side3:\"))\n",
        "s4 = int(input(\"side4:\"))\n",
        "\n",
        "A = int(input(\"Angle A:\"))\n",
        "B = int(input(\"Angle B:\"))\n",
        "C = int(input(\"Angle C:\"))\n",
        "D = int(input(\"Angle D:\"))\n",
        "\n",
        "if(A + B + C + D != 360):\n",
        "  print(\"Not a valid qudrilateral\")\n",
        "elif(A == B == C == D or s1 == s2 == s3 == s4):\n",
        "  print(\"It is square\")\n",
        "elif(A == B == C == B and (s1 == s3 and s2 == s4 )):\n",
        "  print(\"It is Rectangle\")\n",
        "elif((A == C and B == D) and s1 == s3 and s2 == s4):\n",
        "  print(\"It is Parallelogram\")\n",
        "else:\n",
        "  print(\"Quadrilateral\")"
      ],
      "metadata": {
        "colab": {
          "base_uri": "https://localhost:8080/"
        },
        "id": "ZRkMojc6agFP",
        "outputId": "45883959-a55c-4bce-f750-99e1a60675e6"
      },
      "execution_count": null,
      "outputs": [
        {
          "output_type": "stream",
          "name": "stdout",
          "text": [
            "side1:45\n",
            "side2:45\n",
            "side3:45\n",
            "side4:45\n",
            "Angle A:90\n",
            "Angle B:90\n",
            "Angle C:90\n",
            "Angle D:90\n",
            "It is square\n"
          ]
        }
      ]
    },
    {
      "cell_type": "markdown",
      "source": [
        "29. Write a Python script to determine the season based on a user-provided month using elif statements.\n",
        "\n"
      ],
      "metadata": {
        "id": "bpXDimBwcjE8"
      }
    },
    {
      "cell_type": "code",
      "source": [
        "month = input(\"Enter month:\")\n",
        "\n",
        "if (month == \"December\" or month == \"January\" or month == \"February\"):\n",
        "  print(\"winter season\")\n",
        "elif(month == \"March\" or month == \"April\" or month == \"May\"):\n",
        "  print(\"Summer Season\")\n",
        "elif(month == \"June\" or month == \"July\" or month == \"August\" or month == \"September\"):\n",
        "  print(\"Rainy Season\")\n",
        "elif(month == \"October\" or month == \"November\"):\n",
        "  print(\"Autumn\")\n",
        "else:\n",
        "  print(\"not valid month\")"
      ],
      "metadata": {
        "colab": {
          "base_uri": "https://localhost:8080/"
        },
        "id": "9Uhj7QcQwXPu",
        "outputId": "67f96712-e1cb-4512-f18e-d4d86e820151"
      },
      "execution_count": null,
      "outputs": [
        {
          "output_type": "stream",
          "name": "stdout",
          "text": [
            "Enter month:July\n",
            "Rainy Season\n"
          ]
        }
      ]
    },
    {
      "cell_type": "markdown",
      "source": [
        "30. Implement a program to determine the type of a year (leap or common) and month (30 or 31 days) using\n",
        "elif statements."
      ],
      "metadata": {
        "id": "r2DQkauIcpNG"
      }
    },
    {
      "cell_type": "code",
      "source": [
        "def is_leap_year(year):\n",
        "      if (year % 4 == 0 and year % 100 != 0) or (year % 400 == 0):\n",
        "        print(\"leap year\")\n",
        "      else:\n",
        "        print(\"common year \")\n",
        "\n",
        "def days_in_month(month, year):\n",
        "  if (month in (4, 6, 9, 11)):\n",
        "    return 30\n",
        "  elif (month == 2) :\n",
        "    if is_leap_year(year):\n",
        "      return 29\n",
        "    else:\n",
        "      return 28\n",
        "  else:\n",
        "    return 31\n",
        "\n",
        "year = int(input(\"Enter a year: \"))\n",
        "month = int(input(\"Enter a month (1-12): \"))\n",
        "print(f\"year {year} is:\")\n",
        "is_leap_year(year)\n",
        "print( f\"month {month} has {days_in_month(month, year)} number of days.\\n\")\n"
      ],
      "metadata": {
        "id": "Jgd_35uqbW42",
        "colab": {
          "base_uri": "https://localhost:8080/"
        },
        "outputId": "f2ef8a6f-f49b-4144-80ac-d6cb42244ae8"
      },
      "execution_count": null,
      "outputs": [
        {
          "output_type": "stream",
          "name": "stdout",
          "text": [
            "Enter a year: 1980\n",
            "Enter a month (1-12): 4\n",
            "year 1980 is:\n",
            "leap year\n",
            "month 4 has 30 number of days.\n",
            "\n"
          ]
        }
      ]
    },
    {
      "cell_type": "markdown",
      "source": [
        "Basic level"
      ],
      "metadata": {
        "id": "v4F5HZwQBTgd"
      }
    },
    {
      "cell_type": "markdown",
      "source": [
        "1. Write a Python program that checks if a given number is positive, negative, or zero."
      ],
      "metadata": {
        "id": "apm6T-bIBZy2"
      }
    },
    {
      "cell_type": "code",
      "source": [
        "def check_num(n):\n",
        "  if (n==0):\n",
        "    print(\"number is zero\")\n",
        "  elif (n < 0):\n",
        "    print(\"number is -ve\")\n",
        "  elif (n > 0):\n",
        "    print(\"number is +ve\")\n",
        "  else:\n",
        "    print(\"only whole number\")\n",
        "\n",
        "number = int(input(\"enter whole number:\"))\n",
        "check_num(number)"
      ],
      "metadata": {
        "colab": {
          "base_uri": "https://localhost:8080/"
        },
        "id": "vNesR2hvBV_N",
        "outputId": "decd7780-3613-43fa-d7a5-78a4ced06cef"
      },
      "execution_count": null,
      "outputs": [
        {
          "output_type": "stream",
          "name": "stdout",
          "text": [
            "enter whole number:-9\n",
            "number is -ve\n"
          ]
        }
      ]
    },
    {
      "cell_type": "markdown",
      "source": [
        "2. Create a program to determine if a person is eligible to vote based on their age."
      ],
      "metadata": {
        "id": "Y9CZWaKlEd5_"
      }
    },
    {
      "cell_type": "code",
      "source": [
        "age = int(input(\"enter age:\"))\n",
        "\n",
        "if (1 > age < 100):\n",
        "  print(\"Invalid age\")\n",
        "elif(age > 18):\n",
        "  print(\"eligible for vote\")\n",
        "else:\n",
        "  print(\"not eligible for vote\")"
      ],
      "metadata": {
        "colab": {
          "base_uri": "https://localhost:8080/"
        },
        "id": "8OumnIUZD-i7",
        "outputId": "25980c76-b6b1-46bd-85bc-45d2481b6892"
      },
      "execution_count": null,
      "outputs": [
        {
          "output_type": "stream",
          "name": "stdout",
          "text": [
            "enter age:8\n",
            "not eligible for vote\n"
          ]
        }
      ]
    },
    {
      "cell_type": "markdown",
      "source": [
        "3. Write a program to find the maximum of two given numbers using conditional statements."
      ],
      "metadata": {
        "id": "YulmQ7toSPjD"
      }
    },
    {
      "cell_type": "code",
      "source": [
        "n1 = int(input())\n",
        "n2 = int(input())\n",
        "\n",
        "if n1 > n2 :\n",
        "  print(\"max is\", n1)\n",
        "else:\n",
        "  print(\"max is\", n2)"
      ],
      "metadata": {
        "colab": {
          "base_uri": "https://localhost:8080/"
        },
        "id": "yp2UUgvgG56-",
        "outputId": "41cc560e-d3d4-4cac-ca5e-1e3040ae78bf"
      },
      "execution_count": null,
      "outputs": [
        {
          "output_type": "stream",
          "name": "stdout",
          "text": [
            "45\n",
            "56\n",
            "max is 56\n"
          ]
        }
      ]
    },
    {
      "cell_type": "markdown",
      "source": [
        "4. Develop a program that calculates the grade of a student based on their exam score."
      ],
      "metadata": {
        "id": "_W_fUkXjTDWg"
      }
    },
    {
      "cell_type": "code",
      "source": [
        "print(\"enter all subject marks:\")\n",
        "eng = int(input())\n",
        "kan = int(input())\n",
        "hindi = int(input())\n",
        "math = int(input())\n",
        "sci = int(input())\n",
        "sst = int(input())\n",
        "score = eng + kan + hindi + math + sci + sst\n",
        "\n",
        "print(\"Score\", score)\n",
        "\n",
        "\n",
        "if (score>=500 and score<=600):\n",
        "    print(\"Your Grade is A+\")\n",
        "elif (score>=450 and score<500):\n",
        "    print(\"Your Grade is A\")\n",
        "elif (score>=400 and score<450):\n",
        "    print(\"Your Grade is B+\")\n",
        "elif (score>=350 and score<400):\n",
        "    print(\"Your Grade is B\")\n",
        "elif (score>=300 and score<350):\n",
        "    print(\"Your Grade is C+\")\n",
        "elif (score>= 250 and score<300):\n",
        "    print(\"Your Grade is C\")\n",
        "else:\n",
        "  print(\"Grade D\")\n",
        "\n"
      ],
      "metadata": {
        "colab": {
          "base_uri": "https://localhost:8080/"
        },
        "id": "Wc7gYMFiS0pw",
        "outputId": "e1619dad-3757-4a1c-95a6-77d640107e6d"
      },
      "execution_count": null,
      "outputs": [
        {
          "output_type": "stream",
          "name": "stdout",
          "text": [
            "enter all subject marks:\n",
            "67\n",
            "67\n",
            "65\n",
            "64\n",
            "62\n",
            "62\n",
            "Score 387\n",
            "Your Grade is B\n"
          ]
        }
      ]
    },
    {
      "cell_type": "markdown",
      "source": [
        "5. Create a program that checks if a year is a leap year or not."
      ],
      "metadata": {
        "id": "GYZnQfI3YUgY"
      }
    },
    {
      "cell_type": "code",
      "source": [
        "year = int(input(\"enter year:\"))\n",
        "\n",
        "if (year % 4 == 0 and year % 100 != 0) or (year % 400 == 0):\n",
        "  print(\"leap year\")\n",
        "else:\n",
        "  print(\"not leap year\")\n"
      ],
      "metadata": {
        "id": "VoDW2GlhXgEI"
      },
      "execution_count": null,
      "outputs": []
    },
    {
      "cell_type": "markdown",
      "source": [
        "6. Write a program to classify a triangle based on its sides' lengths."
      ],
      "metadata": {
        "id": "bLB_LoKvcAWW"
      }
    },
    {
      "cell_type": "code",
      "source": [
        "side1 = float(input(\"enter side1:\"))\n",
        "side2 = float(input(\"enter side2:\"))\n",
        "side3 = float(input(\"enter side3:\"))\n",
        "\n",
        "if(side1 == side2 == side3):\n",
        "  print(\"eqilateral triangle\")\n",
        "elif side1 == side2 or side2 == side3 or side1 == side3:\n",
        "      print(\"Isosceles triangle\")\n",
        "else:\n",
        "      print(\"Scalene triangle\")\n",
        "\n",
        "\n"
      ],
      "metadata": {
        "colab": {
          "base_uri": "https://localhost:8080/"
        },
        "id": "eC3eSRHocBRr",
        "outputId": "2e2df7f4-8179-4bea-dff1-5b060912daed"
      },
      "execution_count": null,
      "outputs": [
        {
          "output_type": "stream",
          "name": "stdout",
          "text": [
            "enter side1:67\n",
            "enter side2:87\n",
            "enter side3:56\n",
            "Scalene triangle\n"
          ]
        }
      ]
    },
    {
      "cell_type": "markdown",
      "source": [
        "7. Build a program that determines the largest of three given numbers."
      ],
      "metadata": {
        "id": "3q7RrP3Ageq_"
      }
    },
    {
      "cell_type": "code",
      "source": [
        "n1 = int(input())\n",
        "n2 = int(input())\n",
        "n3 = int(input())\n",
        "\n",
        "if(n1 > n2 and n1 > n3):\n",
        "  print(\"n1 is greater \",n1)\n",
        "#else:\n",
        " # print(\"n1 is smaller\", n1)\n",
        "if(n2 > n3 and n2 > n1):\n",
        "  print(\"n2 is greater \", n2)\n",
        "#else:\n",
        " # print(\"n2 is smaller\", n2)\n",
        "if(n3 > n2 and n3 > n1):\n",
        "  print(\"n3 is greater\", n3)\n",
        "else:\n",
        "  print(\"n2 or n1 is greater\")\n",
        "\n"
      ],
      "metadata": {
        "colab": {
          "base_uri": "https://localhost:8080/"
        },
        "id": "_SKCwNBlgdGW",
        "outputId": "4390992f-66dc-4f14-8c88-1c9e3b683247"
      },
      "execution_count": null,
      "outputs": [
        {
          "output_type": "stream",
          "name": "stdout",
          "text": [
            "67\n",
            "89\n",
            "90\n",
            "n3 is greater 90\n"
          ]
        }
      ]
    },
    {
      "cell_type": "markdown",
      "source": [
        "8. Develop a program that checks whether a character is a vowel or a consonant."
      ],
      "metadata": {
        "id": "lE6XXah1hvBQ"
      }
    },
    {
      "cell_type": "code",
      "source": [
        "char = input(\"Enter a character:\")\n",
        "consonants = \"bcdfghjklmnpqrstvwxyzBCDFGHJKLMNPQRSTVWXYZ\"\n",
        "vowels =\"aeiouAEIOU\"\n",
        "\n",
        "if (char in vowels):\n",
        "  print(\"Vowels\")\n",
        "elif (char in consonants):\n",
        "      print(\"consonants\")\n",
        "else:\n",
        "  print(\"nether vowel nor consonants\")\n",
        "\n"
      ],
      "metadata": {
        "colab": {
          "base_uri": "https://localhost:8080/"
        },
        "id": "9LMvSkFvhi7b",
        "outputId": "eb908fa0-5c76-44df-ffce-96095686034f"
      },
      "execution_count": null,
      "outputs": [
        {
          "output_type": "stream",
          "name": "stdout",
          "text": [
            "Enter a character:t\n",
            "consonants\n"
          ]
        }
      ]
    },
    {
      "cell_type": "markdown",
      "source": [
        "9. Create a program to calculate the total cost of a shopping cart based on discounts."
      ],
      "metadata": {
        "id": "p4G4446ZiJLJ"
      }
    },
    {
      "cell_type": "code",
      "source": [
        "purchase_amt = int(input(\"enter purchase amount:\"))\n",
        "discount = 0\n",
        "if (purchase_amt <= 50000):\n",
        "  discount = 20/100\n",
        "elif (50000 > purchase_amt >= 30000):\n",
        "  discount = 10/100\n",
        "elif (30000 > purchase_amt >= 15000):\n",
        "  discount = 5/100\n",
        "elif (15000 > purchase_amt >= 5000):\n",
        "  discount = 2/100\n",
        "else:\n",
        "  print(\"amount should be 50k or below 50k\")\n",
        "\n",
        "total =   purchase_amt * discount\n",
        "print(f\" purchase amount:\", purchase_amt,f\" discount: {discount}, total cost based on discount is: {total} :\")"
      ],
      "metadata": {
        "id": "bc1W0I2XiKPA",
        "colab": {
          "base_uri": "https://localhost:8080/"
        },
        "outputId": "f0c6ceea-255a-4057-9d71-6c63b6bf58ea"
      },
      "execution_count": 6,
      "outputs": [
        {
          "output_type": "stream",
          "name": "stdout",
          "text": [
            "enter purchase amount:45000\n",
            " purchase amount: 45000  discount: 0.2, total cost based on discount is: 9000.0 :\n"
          ]
        }
      ]
    },
    {
      "cell_type": "markdown",
      "source": [
        "10. Write a program that checks if a given number is even or odd."
      ],
      "metadata": {
        "id": "VlotRN9mj1Wt"
      }
    },
    {
      "cell_type": "code",
      "source": [
        "num = int(input(\"enter a number:\"))\n",
        "if(num % 2 == 0):\n",
        "  print(\"even number\")\n",
        "else:\n",
        "  print(\"odd number\")\n"
      ],
      "metadata": {
        "colab": {
          "base_uri": "https://localhost:8080/"
        },
        "id": "JB-XNpzApO_h",
        "outputId": "64db701b-fc23-4e21-bb38-bf3a379c5b97"
      },
      "execution_count": null,
      "outputs": [
        {
          "output_type": "stream",
          "name": "stdout",
          "text": [
            "enter a number:56\n",
            "even number\n"
          ]
        }
      ]
    },
    {
      "cell_type": "markdown",
      "source": [
        "Intermediate Level:"
      ],
      "metadata": {
        "id": "fEULgV0jpLRy"
      }
    },
    {
      "cell_type": "markdown",
      "source": [
        "11. Write a program that calculates the roots of a quadratic equation ."
      ],
      "metadata": {
        "id": "y72Wld_TkwWt"
      }
    },
    {
      "cell_type": "code",
      "source": [
        "import cmath\n",
        "a = int(input(\"enter a:\"))\n",
        "b = int(input(\"enter b:\"))\n",
        "c = int(input(\"enter c:\"))\n",
        "\n",
        "d = (b ** 2) - (4*a*c)\n",
        "\n",
        "root1 = (-b + cmath.sqrt(d))/(2*a)\n",
        "root2 = (-b - cmath.sqrt(d))/(2*a)\n",
        "print(\"roots of quadratic equation are:\", root1, root2)\n",
        "\n",
        "if(d > 0):\n",
        "  print(\"roots are real and different\")\n",
        "elif(d == 0):\n",
        "  print(\"roots are same\")\n",
        "else:\n",
        "  print(\"roots are complex\")\n"
      ],
      "metadata": {
        "id": "MUHLNZu1j2hI",
        "colab": {
          "base_uri": "https://localhost:8080/"
        },
        "outputId": "6838fb32-dd55-4803-a3af-64410bb11929"
      },
      "execution_count": null,
      "outputs": [
        {
          "output_type": "stream",
          "name": "stdout",
          "text": [
            "enter a:28\n",
            "enter b:35\n",
            "enter c:54\n",
            "roots of quadratic equation are: (-0.625+1.2401396810728331j) (-0.625-1.2401396810728331j)\n",
            "roots are complex\n"
          ]
        }
      ]
    },
    {
      "cell_type": "markdown",
      "source": [
        "12. Create a program that determines the day of the week based on the day number (1-7)."
      ],
      "metadata": {
        "id": "i713ax73lbjF"
      }
    },
    {
      "cell_type": "code",
      "source": [
        "day = int(input(\"enter days number 1 to 7:\"))\n",
        "if day == 1 :\n",
        "  print(\"sunday\")\n",
        "elif day == 2:\n",
        "  print(\"monday\")\n",
        "elif day == 3 :\n",
        "  print(\"tuesday\")\n",
        "elif day == 4 :\n",
        "  print(\"wednsday\")\n",
        "elif day == 5 :\n",
        "  print(\"thursday\")\n",
        "elif day == 6 :\n",
        "  print(\"friday\")\n",
        "elif day == 7:\n",
        "  print(\"saturday\")\n",
        "else:\n",
        "  print(\"enter proper date number\")\n"
      ],
      "metadata": {
        "colab": {
          "base_uri": "https://localhost:8080/"
        },
        "id": "yJEQQdKllkfj",
        "outputId": "1329f51f-e567-4ce4-99df-ca92dc5413ec"
      },
      "execution_count": null,
      "outputs": [
        {
          "output_type": "stream",
          "name": "stdout",
          "text": [
            "enter days number 1 to 7:5\n",
            "thursday\n"
          ]
        }
      ]
    },
    {
      "cell_type": "markdown",
      "source": [
        "13. Develop a program that calculates the factorial of a given number using recursion."
      ],
      "metadata": {
        "id": "HtwijVCAoP8K"
      }
    },
    {
      "cell_type": "code",
      "source": [
        "import math\n",
        "def fact(num):\n",
        "  if(num == 1 or num == 0):\n",
        "    return num\n",
        "  else:\n",
        "    return num * fact(num-1)\n",
        "\n",
        "n = int(input(\"Enter natural number:\"))\n",
        "print(\"factorial of\", n, \"is:\", fact(n))"
      ],
      "metadata": {
        "colab": {
          "base_uri": "https://localhost:8080/"
        },
        "id": "bcwpPy1U0UUi",
        "outputId": "13e2dd1b-ffd6-49ab-a4fe-9efb2a612ddc"
      },
      "execution_count": null,
      "outputs": [
        {
          "output_type": "stream",
          "name": "stdout",
          "text": [
            "Enter natural number:4\n",
            "factorial of 4 is: 24\n"
          ]
        }
      ]
    },
    {
      "cell_type": "markdown",
      "source": [
        "14. Write a program to find the largest among three numbers without using the `max()` function."
      ],
      "metadata": {
        "id": "8sB8No8v4hZl"
      }
    },
    {
      "cell_type": "code",
      "source": [
        "n1 = int(input())\n",
        "n2 = int(input())\n",
        "n3 = int(input())\n",
        "\n",
        "if(n1 > n2 and n1 > n3):\n",
        "  print(\"n1 is greater \",n1)\n",
        "#else:\n",
        " # print(\"n1 is smaller\", n1)\n",
        "if(n2 > n3 and n2 > n1):\n",
        "  print(\"n2 is greater \", n2)\n",
        "#else:\n",
        " # print(\"n2 is smaller\", n2)\n",
        "if(n3 > n2 and n3 > n1):\n",
        "  print(\"n3 is greater\", n3)\n",
        "else:\n",
        "  print(\"n2 or n1 is greater\")\n",
        "\n"
      ],
      "metadata": {
        "id": "XZpJJlzhn2uL",
        "colab": {
          "base_uri": "https://localhost:8080/"
        },
        "outputId": "ab2fb0c1-6145-4aea-d430-c30e9c1f9f7f"
      },
      "execution_count": null,
      "outputs": [
        {
          "output_type": "stream",
          "name": "stdout",
          "text": [
            "67\n",
            "58\n",
            "98\n",
            "n3 is greater 98\n"
          ]
        }
      ]
    },
    {
      "cell_type": "markdown",
      "source": [
        "15. Create a program that simulates a basic ATM transaction menu."
      ],
      "metadata": {
        "id": "TRwEQmMJ442f"
      }
    },
    {
      "cell_type": "code",
      "source": [],
      "metadata": {
        "id": "qJmHRi7W4v7F"
      },
      "execution_count": null,
      "outputs": []
    },
    {
      "cell_type": "markdown",
      "source": [
        "16. Build a program that checks if a given string is a palindrome or not."
      ],
      "metadata": {
        "id": "ePOOTxXj5au2"
      }
    },
    {
      "cell_type": "code",
      "source": [
        "str1 = input(\"Enter a string:\\t\")\n",
        "\n",
        "if(str1 == str1[::-1]):\n",
        "    print(str1, 'Is a palindrom')\n",
        "else:\n",
        "    print(str1, 'Not palindrom')"
      ],
      "metadata": {
        "colab": {
          "base_uri": "https://localhost:8080/"
        },
        "id": "Yun5QPuW5cnF",
        "outputId": "fc822c14-c906-4f66-8f7e-6e4ea1e196ae"
      },
      "execution_count": null,
      "outputs": [
        {
          "output_type": "stream",
          "name": "stdout",
          "text": [
            "Enter a string:\tICICI\n",
            "ICICI Is a palindrom\n"
          ]
        }
      ]
    },
    {
      "cell_type": "markdown",
      "source": [
        "17. Write a program that calculates the average of a list of numbers, excluding the smallest and largest values."
      ],
      "metadata": {
        "id": "hBrFP9ZN5y8M"
      }
    },
    {
      "cell_type": "code",
      "source": [
        "l =[1, 2, 3, 4, 5, 6, 7, 8]\n",
        "l.sort()\n",
        "big = l[len(l)-1]\n",
        "small = l[0]\n",
        "sum = 0\n",
        "for i in l:\n",
        "    sum = sum + i\n",
        "sum = sum - big - small\n",
        "avg = sum / (len(l)-2)\n",
        "print(\" average of a list of numbers, excluding the smallest and largest values:\", avg)\n",
        "\n"
      ],
      "metadata": {
        "colab": {
          "base_uri": "https://localhost:8080/"
        },
        "id": "WHyC1q_E5lxv",
        "outputId": "370a611b-9fdc-48d0-b301-5bae8aeaa4fd"
      },
      "execution_count": null,
      "outputs": [
        {
          "output_type": "stream",
          "name": "stdout",
          "text": [
            " average of a list of numbers, excluding the smallest and largest values: 4.5\n"
          ]
        }
      ]
    },
    {
      "cell_type": "markdown",
      "source": [
        "18. Develop a program that converts a given temperature from Celsius to Fahrenheit."
      ],
      "metadata": {
        "id": "trGkbv3U_Zcp"
      }
    },
    {
      "cell_type": "code",
      "source": [
        "# Formula : (0°C × 9/5) + 32 = 32°F\n",
        "\n",
        "temp = float(input(\"Enter temperature value in celsius:\"))\n",
        "f = (temp * (9/5)) + 32\n",
        "print(\"Temperature\", temp, \"degree celsius value converted in to Fahrenheit is :\", f)"
      ],
      "metadata": {
        "colab": {
          "base_uri": "https://localhost:8080/"
        },
        "id": "G5O7GI_X6kcI",
        "outputId": "20f05b53-3cf4-4597-b131-ef194696d09c"
      },
      "execution_count": null,
      "outputs": [
        {
          "output_type": "stream",
          "name": "stdout",
          "text": [
            "Enter temperature value in celsius:52\n",
            "Temperature 52.0 degree celsius value converted in to Fahrenheit is : 125.60000000000001\n"
          ]
        }
      ]
    },
    {
      "cell_type": "markdown",
      "source": [
        "19. Create a program that simulates a basic calculator for addition, subtraction, multiplication, and division."
      ],
      "metadata": {
        "id": "6yvqSYnxAAnY"
      }
    },
    {
      "cell_type": "code",
      "source": [
        "num1 = int(input())\n",
        "num2 = int(input())\n",
        "add = num1 + num2\n",
        "sub = num1 - num2\n",
        "mul = num1 * num2\n",
        "div = num1 / num2\n",
        "print(\"addition:\", add)\n",
        "print(\"\\nsubtraction:\", sub)\n",
        "print(\"\\n multiplication:\", mul)\n",
        "print(\"\\n division:\", div)\n",
        "\n"
      ],
      "metadata": {
        "colab": {
          "base_uri": "https://localhost:8080/"
        },
        "id": "dmmQ5JrB-dK1",
        "outputId": "f8d495a3-d966-4829-8369-1cb1e03f1b88"
      },
      "execution_count": null,
      "outputs": [
        {
          "output_type": "stream",
          "name": "stdout",
          "text": [
            "78\n",
            "87\n",
            "addition: 165\n",
            "\n",
            "subtraction: -9\n",
            "\n",
            " multiplication: 6786\n",
            "\n",
            " division: 0.896551724137931\n"
          ]
        }
      ]
    },
    {
      "cell_type": "markdown",
      "source": [
        "20. Write a program that determines the roots of a cubic equation using the Cardano formula."
      ],
      "metadata": {
        "id": "btNB367iDNjr"
      }
    },
    {
      "cell_type": "markdown",
      "source": [
        "ax^3 + bx^2 + cx + d = 0\n",
        "\n",
        "Here's how to use the Cardano formula:\n",
        "\n",
        "Start with your cubic equation in the standard form:\n",
        "\n",
        "ax^3 + bx^2 + cx + d = 0.\n",
        "\n",
        "Calculate the discriminant, which is defined as\n",
        "\n",
        " Δ = 4p^3 + 27q^2\n",
        "\n",
        "Next, determine the following intermediate values:\n",
        "\n",
        "P = (3ac - b^2) / (3a^2)\n",
        "\n",
        "\n",
        "Q = (27a^2d + 2b^3 - 9abc ) / (27a^3)\n",
        "\n",
        "Depending on the value of Δ and the values of P and Q, you'll have one of the following three cases:\n",
        "\n",
        "1. If Δ > 0, you have one real root and two complex conjugate roots.\n",
        "\n",
        "2. If Δ = 0  you have a triple real root.(one real root and one double real root)\n",
        "\n",
        " If Δ < 0, you have three real roots."
      ],
      "metadata": {
        "id": "w9bm_hxh7m21"
      }
    },
    {
      "cell_type": "code",
      "source": [
        "# x**3 - 9x**2 + 20x + 2 = 0\n",
        "\n",
        "a, b, c, d = 1, -9, 20, 2\n",
        "\n",
        "p = (3*a*c - b**2) / (3*(a**2))\n",
        "q = (27*(a**2)*d + 2*(b**3) - 9 * a * b * c) / (27 * (a ** 3))\n",
        "delta = 4 * (p ** 3) + 27 * (q ** 2)\n",
        "print(f\"\\ndelta:{delta}\\n\")\n",
        "print(f\" p: {p} and q: {q}\")\n",
        "\n",
        "if(delta > 0):\n",
        "  print(\"\\n you have one real root and two complex roots.\\n\")\n",
        "elif(delta == 0 and p == 0 ):\n",
        "  print(\"\\nyou have a triple real root.\\n\")\n",
        "elif(delta < 0):\n",
        "  print(\"\\nyou have three real roots\\n\")\n",
        "\n"
      ],
      "metadata": {
        "id": "sCRNFV3l-gtl",
        "colab": {
          "base_uri": "https://localhost:8080/"
        },
        "outputId": "2bcd04d0-dc77-45b4-cdbc-b106b801287b"
      },
      "execution_count": null,
      "outputs": [
        {
          "output_type": "stream",
          "name": "stdout",
          "text": [
            "\n",
            "delta:356.0\n",
            "\n",
            " p: -7.0 and q: 8.0\n",
            "\n",
            " you have one real root and two complex roots.\n",
            "\n"
          ]
        }
      ]
    },
    {
      "cell_type": "markdown",
      "source": [
        "Advanced Level:\n",
        "\n",
        "21. Create a program that calculates the income tax based on the user's income and tax brackets."
      ],
      "metadata": {
        "id": "SYXsbCpmMg2d"
      }
    },
    {
      "cell_type": "code",
      "source": [
        "user_income = int(input(\"Enter income:\"))\n",
        "\n",
        "income_tax = 0\n",
        "\n",
        "if (user_income <= 250000):\n",
        "  income_tax = 0\n",
        "elif(500000 >= user_income > 250000 ) :\n",
        "  income_tax = 5/100\n",
        "\n",
        "elif ( 750000 >= user_income > 500000):\n",
        "  income_tax = 10/100\n",
        "elif (1000000 >= user_income > 750000):\n",
        "  income_tax = 15/100\n",
        "elif (1250000 >= user_income > 1000000):\n",
        "  income_tax = 20/100\n",
        "elif (1500000 >= user_income > 1250000):\n",
        "  income_tax = 25 / 100\n",
        "else:\n",
        "  income_tax = 30/100\n",
        "\n",
        "total = user_income * income_tax\n",
        "\n",
        "print(\"total\", total)"
      ],
      "metadata": {
        "id": "fEQwsq6A_C0L",
        "colab": {
          "base_uri": "https://localhost:8080/"
        },
        "outputId": "ac2070e9-f1a0-4089-c85e-e7c4532d4ec7"
      },
      "execution_count": null,
      "outputs": [
        {
          "output_type": "stream",
          "name": "stdout",
          "text": [
            "Enter income:5500000\n",
            "total 1650000.0\n"
          ]
        }
      ]
    },
    {
      "cell_type": "markdown",
      "source": [
        "22. Write a program that simulates a rock-paper-scissors game against the computer."
      ],
      "metadata": {
        "id": "XpS9-7dMM0qm"
      }
    },
    {
      "cell_type": "markdown",
      "source": [
        "Python Random module is an in-built module of Python that is used to generate random numbers in Python. These are pseudo-random numbers means they are not truly random. This module can be used to perform random actions such as generating random numbers, printing random a value for a list or string, etc.\n",
        "\n",
        "randint(): Returns a random integer within the range"
      ],
      "metadata": {
        "id": "26WztuJzCH-i"
      }
    },
    {
      "cell_type": "code",
      "source": [
        "import random\n",
        "\n",
        "user_action = input(\"Enter a choice (rock, paper, scissors): \")\n",
        "possible_actions = [\"rock\", \"paper\", \"scissors\"]\n",
        "computer_action = random.choice(possible_actions)\n",
        "print(f\"\\nYou chose {user_action}, computer chose {computer_action}.\\n\")\n",
        "\n",
        "if user_action == computer_action:\n",
        "    print(f\"Both players selected {user_action}. It's a tie!\")\n",
        "elif user_action == \"rock\":\n",
        "    if computer_action == \"scissors\":\n",
        "        print(\"Rock smashes scissors! You win!\")\n",
        "    else:\n",
        "        print(\"Paper covers rock! You lose.\")\n",
        "elif user_action == \"paper\":\n",
        "    if computer_action == \"rock\":\n",
        "        print(\"Paper covers rock! You win!\")\n",
        "    else:\n",
        "        print(\"Scissors cuts paper! You lose.\")\n",
        "elif user_action == \"scissors\":\n",
        "    if computer_action == \"paper\":\n",
        "        print(\"Scissors cuts paper! You win!\")\n",
        "    else:\n",
        "        print(\"Rock smashes scissors! You lose.\")"
      ],
      "metadata": {
        "colab": {
          "base_uri": "https://localhost:8080/"
        },
        "id": "sQdt-f3iI63q",
        "outputId": "0675c0fb-143c-487c-92b5-779db80c0da3"
      },
      "execution_count": null,
      "outputs": [
        {
          "output_type": "stream",
          "name": "stdout",
          "text": [
            "Enter a choice (rock, paper, scissors): rock\n",
            "\n",
            "You chose rock, computer chose paper.\n",
            "\n",
            "Paper covers rock! You lose.\n"
          ]
        }
      ]
    },
    {
      "cell_type": "markdown",
      "source": [
        "23. Develop a program that generates a random password based on user preferences (length, complexity)."
      ],
      "metadata": {
        "id": "igkYkQ0PM6U_"
      }
    },
    {
      "cell_type": "code",
      "source": [
        "import random\n",
        "import string\n",
        "\n",
        "def generate_password(len):\n",
        "  list_of_chars = \"ABCDEFGHIJKLMNOPQRSTUVWXYZabcdefghijklmnopqrstuvwxyz1234567890!@#$%^&*\"\n",
        "  pass_str =\"\"\n",
        "\n",
        "  for i in range(len):\n",
        "    pass_str = pass_str + random.choice(list_of_chars)\n",
        "    return pass_str\n",
        "\n",
        "len = int(input(\"enter length:\\t\"))\n",
        "pass_str = generate_password(len)\n",
        "\n",
        "if(len <= 8):\n",
        "  print(\"password is too weak\")\n",
        "elif (10 <= len > 8):\n",
        "      if any(char in \"1234567890@#$^&*\" for char in pass_str):\n",
        "         print(\"password is Good\")\n",
        "elif(20<= len >10):\n",
        "      if any(char in \"1234567890@#$^&*\" for char in pass_str):\n",
        "          print(\"strong password\")\n",
        "else:\n",
        "  print(\"length or complexity is weak. Try again\")\n"
      ],
      "metadata": {
        "id": "X_k1ivMXM7Wf",
        "colab": {
          "base_uri": "https://localhost:8080/"
        },
        "outputId": "0d587914-1443-43ce-9218-cee5957aa120"
      },
      "execution_count": null,
      "outputs": [
        {
          "output_type": "stream",
          "name": "stdout",
          "text": [
            "enter length:\t10\n",
            "password is Good\n"
          ]
        }
      ]
    },
    {
      "cell_type": "markdown",
      "source": [
        "24. Create a program that implements a simple text-based adventure game with branching scenarios."
      ],
      "metadata": {
        "id": "3rL_Zfm-NFMU"
      }
    },
    {
      "cell_type": "code",
      "source": [
        "import time\n",
        "\n",
        "def intro():\n",
        "    print(\"Welcome to the Text Adventure Game!\")\n",
        "    time.sleep(1)\n",
        "    print(\"You find yourself in a dark forest.\")\n",
        "    time.sleep(1)\n",
        "    print(\"You can go left or right.\")\n",
        "\n",
        "def left_path():\n",
        "    print(\"You chose the left path.\")\n",
        "    time.sleep(1)\n",
        "    print(\"You encounter a friendly squirrel.\")\n",
        "    time.sleep(1)\n",
        "    print(\"The squirrel gives you a magical acorn.\")\n",
        "    time.sleep(1)\n",
        "    print(\"You can 'eat' the acorn or 'keep' it for later.\")\n",
        "    choice = input(\"What do you want to do? \").lower()\n",
        "    if choice == \"eat\":\n",
        "        print(\"You feel a burst of energy but nothing else happens.\")\n",
        "    elif choice == \"keep\":\n",
        "        print(\"You keep the acorn for later.\")\n",
        "    else:\n",
        "        print(\"Invalid choice. The squirrel scampers away.\")\n",
        "\n",
        "def right_path():\n",
        "    print(\"You chose the right path.\")\n",
        "    time.sleep(1)\n",
        "    print(\"You come across a spooky cave.\")\n",
        "    time.sleep(1)\n",
        "    print(\"Do you want to 'enter' the cave or 'walk' away?\")\n",
        "    choice = input(\"What do you want to do? \").lower()\n",
        "    if choice == \"enter\":\n",
        "        print(\"You bravely enter the cave...\")\n",
        "        time.sleep(2)\n",
        "        print(\"It's pitch dark in the cave, and you can't see anything.\")\n",
        "    elif choice == \"walk\":\n",
        "        print(\"You decide not to enter the spooky cave and continue on your way.\")\n",
        "    else:\n",
        "        print(\"Invalid choice. You stand there, unsure of what to do.\")\n",
        "\n",
        "def start():\n",
        "    intro()\n",
        "    time.sleep(1)\n",
        "    choice = input(\"Which path will you choose? (left/right): \").lower()\n",
        "\n",
        "    if choice == \"left\":\n",
        "        left_path()\n",
        "    elif choice == \"right\":\n",
        "        right_path()\n",
        "    else:\n",
        "        print(\"Invalid choice. The forest is a mysterious place.\")\n",
        "\n",
        "start()\n"
      ],
      "metadata": {
        "id": "cW6je7hANGwm",
        "colab": {
          "base_uri": "https://localhost:8080/"
        },
        "outputId": "f322fac7-3189-409c-a4a3-8baac3c53d93"
      },
      "execution_count": null,
      "outputs": [
        {
          "output_type": "stream",
          "name": "stdout",
          "text": [
            "Welcome to the Text Adventure Game!\n",
            "You find yourself in a dark forest.\n",
            "You can go left or right.\n",
            "Which path will you choose? (left/right): left\n",
            "You chose the left path.\n",
            "You encounter a friendly squirrel.\n",
            "The squirrel gives you a magical acorn.\n",
            "You can 'eat' the acorn or 'keep' it for later.\n",
            "What do you want to do? keep\n",
            "You keep the acorn for later.\n"
          ]
        }
      ]
    },
    {
      "cell_type": "markdown",
      "source": [
        "25. Build a program that solves a linear equation  for x, considering different cases."
      ],
      "metadata": {
        "id": "OObmu1yANKzF"
      }
    },
    {
      "cell_type": "code",
      "source": [
        "def solve_linear_equation(a, b):\n",
        "    if a == 0:\n",
        "        if b == 0:\n",
        "            print(\"Infinite solutions (x = 0)\")\n",
        "        else:\n",
        "            print(\"No solution (x = b, where b is not equal to 0)\")\n",
        "    else:\n",
        "        x = -b / a\n",
        "        print(\"The solution is\", x)\n",
        "\n",
        "\n",
        "print(\"Linear Equation Solver\")\n",
        "a = float(input(\"Enter the coefficient 'a': \"))\n",
        "b = float(input(\"Enter the constant term 'b': \"))\n",
        "\n",
        "solve_linear_equation(a, b)\n",
        "\n",
        "\n",
        "\n"
      ],
      "metadata": {
        "id": "vAL1hFWuNL4d",
        "colab": {
          "base_uri": "https://localhost:8080/"
        },
        "outputId": "e8cae9b6-4957-4f82-b5b1-c2b770610c41"
      },
      "execution_count": null,
      "outputs": [
        {
          "output_type": "stream",
          "name": "stdout",
          "text": [
            "Linear Equation Solver\n",
            "Enter the coefficient 'a': 78\n",
            "Enter the constant term 'b': 89\n",
            "The solution is -1.141025641025641\n"
          ]
        }
      ]
    },
    {
      "cell_type": "markdown",
      "source": [
        "26. Write a program that simulates a basic quiz game with multiple-choice questions and scoring."
      ],
      "metadata": {
        "id": "LmTpUQjdNQV5"
      }
    },
    {
      "cell_type": "code",
      "source": [],
      "metadata": {
        "id": "1U0M9GvDNRX7"
      },
      "execution_count": null,
      "outputs": []
    },
    {
      "cell_type": "markdown",
      "source": [
        "27. Develop a program that determines whether a given year is a prime number or not."
      ],
      "metadata": {
        "id": "BBST7KCBNXiM"
      }
    },
    {
      "cell_type": "code",
      "source": [
        "num = int(input(\"enter year:\"))\n",
        "\n",
        "if (num != 0):\n",
        "  if(num >1):\n",
        "    for i in range(2, num):\n",
        "      if(num % i == 0):\n",
        "        print(\"Not a prime number\")\n",
        "        break\n",
        "      else:\n",
        "        print(\" prime number\")\n",
        "        break\n",
        "\n"
      ],
      "metadata": {
        "id": "sdfl786wNZjD",
        "colab": {
          "base_uri": "https://localhost:8080/"
        },
        "outputId": "6ed1018e-7724-40aa-8d84-7ce4bacafc13"
      },
      "execution_count": null,
      "outputs": [
        {
          "output_type": "stream",
          "name": "stdout",
          "text": [
            "enter year:2001\n",
            " prime number\n"
          ]
        }
      ]
    },
    {
      "cell_type": "markdown",
      "source": [
        "28. Create a program that sorts three numbers in ascending order using conditional statements."
      ],
      "metadata": {
        "id": "ExnAhfmsNdtE"
      }
    },
    {
      "cell_type": "code",
      "source": [
        "num1=int(input(\"Enter First number : \"))\n",
        "num2=int(input(\"Enter Second number : \"))\n",
        "num3=int(input(\"Enter Third number : \"))\n",
        "if num1<num2 and num1<num3:\n",
        "    if num2<num3:\n",
        "        x,y,z=num1,num2,num3\n",
        "    else:\n",
        "        x,y,z=num1,num3,num2\n",
        "elif num2<num1 and num2<num3:\n",
        "    if num1<num3:\n",
        "        x,y,z=num2,num1,num3\n",
        "    else:\n",
        "        x,y,z=num2,num3,num1\n",
        "else:\n",
        "    if num1<num2:\n",
        "        x,y,z=num3,num1,num2\n",
        "    else:\n",
        "        x,y,z=num3,num2,num1\n",
        "print(\"Numbers in ascending order are : \",x,y,z)"
      ],
      "metadata": {
        "id": "nf47FSu6NejJ",
        "colab": {
          "base_uri": "https://localhost:8080/"
        },
        "outputId": "66dcc544-09ff-4645-9272-756aa15a60f4"
      },
      "execution_count": null,
      "outputs": [
        {
          "output_type": "stream",
          "name": "stdout",
          "text": [
            "Enter First number : 56\n",
            "Enter Second number : 78\n",
            "Enter Third number : 45\n",
            "Numbers in ascending order are :  45 56 78\n"
          ]
        }
      ]
    },
    {
      "cell_type": "markdown",
      "source": [
        "29. Build a program that determines the roots of a quartic equation using numerical methods."
      ],
      "metadata": {
        "id": "wnBZeLZ1Nh1g"
      }
    },
    {
      "cell_type": "code",
      "source": [
        "import cmath\n",
        "a = int(input(\"enter a:\"))\n",
        "b = int(input(\"enter b:\"))\n",
        "c = int(input(\"enter c:\"))\n",
        "\n",
        "d = (b ** 2) - (4*a*c)\n",
        "\n",
        "root1 = (-b + cmath.sqrt(d))/(2*a)\n",
        "root2 = (-b - cmath.sqrt(d))/(2*a)\n",
        "print(\"roots of quadratic equation are:\", root1, root2)\n",
        "\n",
        "if(d > 0):\n",
        "  print(\"roots are real and different\")\n",
        "elif(d == 0):\n",
        "  print(\"roots are same\")\n",
        "else:\n",
        "  print(\"roots are complex\")\n"
      ],
      "metadata": {
        "id": "6LUiTpPWNiys",
        "colab": {
          "base_uri": "https://localhost:8080/"
        },
        "outputId": "9acfd722-6894-483b-af81-bbb20cf1445e"
      },
      "execution_count": null,
      "outputs": [
        {
          "output_type": "stream",
          "name": "stdout",
          "text": [
            "enter a:67\n",
            "enter b:54\n",
            "enter c:6\n",
            "roots of quadratic equation are: (-0.13308744298469963+0j) (-0.6728827062690317+0j)\n",
            "roots are real and different\n"
          ]
        }
      ]
    },
    {
      "cell_type": "markdown",
      "source": [
        "30. Write a program that calculates the BMI (Body Mass Index) and provides health recommendations based"
      ],
      "metadata": {
        "id": "iPLXct2ANmVL"
      }
    },
    {
      "cell_type": "code",
      "source": [
        "def bodymassindex(height, weight):\n",
        "    return round((weight / height**2),2)\n",
        "\n",
        "h = float(input(\"Enter your height in meters: \"))\n",
        "w = float(input(\"Enter your weight in kg: \"))\n",
        "\n",
        "bmi = bodymassindex(h, w)\n",
        "print(\"Your BMI is: \", bmi)\n",
        "\n",
        "if bmi <= 18.5:\n",
        "    print(\"You are underweight.\")\n",
        "elif 18.5 < bmi <= 24.9:\n",
        "    print(\"Your weight is normal.\")\n",
        "elif 25 < bmi <= 29.29:\n",
        "    print(\"You are overweight.\")\n",
        "else:\n",
        "    print(\"You are obese.\")\n"
      ],
      "metadata": {
        "id": "eU1qq6uvzASF",
        "colab": {
          "base_uri": "https://localhost:8080/"
        },
        "outputId": "7fcf906c-234e-4058-f6cd-8dcf4e61793d"
      },
      "execution_count": null,
      "outputs": [
        {
          "output_type": "stream",
          "name": "stdout",
          "text": [
            "Enter your height in meters: 1.5\n",
            "Enter your weight in kg: 55\n",
            "Your BMI is:  24.44\n",
            "Your weight is normal.\n"
          ]
        }
      ]
    },
    {
      "cell_type": "code",
      "source": [],
      "metadata": {
        "id": "ib_052v-15dy"
      },
      "execution_count": null,
      "outputs": []
    }
  ]
}