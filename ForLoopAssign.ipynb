{
  "nbformat": 4,
  "nbformat_minor": 0,
  "metadata": {
    "colab": {
      "provenance": [],
      "authorship_tag": "ABX9TyMkVGeSQknWUrL2p6NyPwi7",
      "include_colab_link": true
    },
    "kernelspec": {
      "name": "python3",
      "display_name": "Python 3"
    },
    "language_info": {
      "name": "python"
    }
  },
  "cells": [
    {
      "cell_type": "markdown",
      "metadata": {
        "id": "view-in-github",
        "colab_type": "text"
      },
      "source": [
        "<a href=\"https://colab.research.google.com/github/amruta-23/python-assignment/blob/main/ForLoopAssign.ipynb\" target=\"_parent\"><img src=\"https://colab.research.google.com/assets/colab-badge.svg\" alt=\"Open In Colab\"/></a>"
      ]
    },
    {
      "cell_type": "markdown",
      "source": [
        "### Basic level"
      ],
      "metadata": {
        "id": "XK8od-cOnUGC"
      }
    },
    {
      "cell_type": "markdown",
      "source": [
        "1. Write a Python program to print the numbers from 1 to 10 using a `for` loop."
      ],
      "metadata": {
        "id": "lbX5p7WzoFxq"
      }
    },
    {
      "cell_type": "code",
      "execution_count": 1,
      "metadata": {
        "colab": {
          "base_uri": "https://localhost:8080/"
        },
        "id": "RvDleRC1m6gK",
        "outputId": "37c0f9c1-a61f-42ee-e475-46e5e7bd88a1"
      },
      "outputs": [
        {
          "output_type": "stream",
          "name": "stdout",
          "text": [
            "1\n",
            "2\n",
            "3\n",
            "4\n",
            "5\n",
            "6\n",
            "7\n",
            "8\n",
            "9\n",
            "10\n"
          ]
        }
      ],
      "source": [
        "for number in range(1, 11):\n",
        "   print(number)"
      ]
    },
    {
      "cell_type": "markdown",
      "source": [
        "2. Create a program that calculates the sum of all numbers in a list using a `for` loop."
      ],
      "metadata": {
        "id": "MNZ3uKFvopjx"
      }
    },
    {
      "cell_type": "code",
      "source": [
        "sum=0\n",
        "l = [1, 2, 3, 4]\n",
        "for i in l:\n",
        "  sum +=i\n",
        "\n",
        "print(sum)"
      ],
      "metadata": {
        "colab": {
          "base_uri": "https://localhost:8080/"
        },
        "id": "zMD_SW-2oZkp",
        "outputId": "1c1bb0ad-e2ee-4c30-eaad-a09433e8ae06"
      },
      "execution_count": 2,
      "outputs": [
        {
          "output_type": "stream",
          "name": "stdout",
          "text": [
            "10\n"
          ]
        }
      ]
    },
    {
      "cell_type": "markdown",
      "source": [
        "3. Write a program to print the characters of a string in reverse order using a `for` loop."
      ],
      "metadata": {
        "id": "QIr09Oj9q5VT"
      }
    },
    {
      "cell_type": "code",
      "source": [
        "str = \"karnataka\"\n",
        "str1 = \"\"\n",
        "for i in str:\n",
        "  str1 = i + str1\n",
        "print(str1)"
      ],
      "metadata": {
        "colab": {
          "base_uri": "https://localhost:8080/"
        },
        "id": "26Onf4D1p4dp",
        "outputId": "615c65b8-6030-4d49-8aa9-1a0476f83532"
      },
      "execution_count": 3,
      "outputs": [
        {
          "output_type": "stream",
          "name": "stdout",
          "text": [
            "akatanrak\n"
          ]
        }
      ]
    },
    {
      "cell_type": "markdown",
      "source": [
        "4. Develop a program that finds the factorial of a given number using a `for` loop."
      ],
      "metadata": {
        "id": "jC816x3QswG6"
      }
    },
    {
      "cell_type": "code",
      "source": [
        "n = 4\n",
        "fact = 1\n",
        "for i in range(1, n+1):\n",
        "  fact = fact * i\n",
        "print(fact)"
      ],
      "metadata": {
        "colab": {
          "base_uri": "https://localhost:8080/"
        },
        "id": "ou-Dq1RzsQeH",
        "outputId": "4ec86a03-964b-4602-da80-e509fcfbe70c"
      },
      "execution_count": 4,
      "outputs": [
        {
          "output_type": "stream",
          "name": "stdout",
          "text": [
            "24\n"
          ]
        }
      ]
    },
    {
      "cell_type": "markdown",
      "source": [
        "5. Create a program to print the multiplication table of a given number using a `for` loop."
      ],
      "metadata": {
        "id": "FGHC1OXOvCYm"
      }
    },
    {
      "cell_type": "code",
      "source": [
        "for i in range (1, 11):\n",
        "  print(\"2 X \",i,\"=\", 2 * i)"
      ],
      "metadata": {
        "colab": {
          "base_uri": "https://localhost:8080/"
        },
        "id": "bnb_-PVIuNp9",
        "outputId": "b97093d0-80a7-4be9-881a-e2629ef0ec7f"
      },
      "execution_count": 5,
      "outputs": [
        {
          "output_type": "stream",
          "name": "stdout",
          "text": [
            "2 X  1 = 2\n",
            "2 X  2 = 4\n",
            "2 X  3 = 6\n",
            "2 X  4 = 8\n",
            "2 X  5 = 10\n",
            "2 X  6 = 12\n",
            "2 X  7 = 14\n",
            "2 X  8 = 16\n",
            "2 X  9 = 18\n",
            "2 X  10 = 20\n"
          ]
        }
      ]
    },
    {
      "cell_type": "markdown",
      "source": [
        "6. Write a program that counts the number of even and odd numbers in a list using a `for` loop."
      ],
      "metadata": {
        "id": "qj9pl9B_wCtr"
      }
    },
    {
      "cell_type": "code",
      "source": [
        "l1 = [33, 46, 75, 78, 54, 67, 43, 48, 62]\n",
        "evenCount = 0\n",
        "oddCount = 0\n",
        "for i in l1:\n",
        "  if(i % 2 == 0):\n",
        "   evenCount = 1 + evenCount\n",
        "  else:\n",
        "     oddCount = 1 + oddCount\n",
        "\n",
        "print(evenCount, oddCount)"
      ],
      "metadata": {
        "colab": {
          "base_uri": "https://localhost:8080/"
        },
        "id": "qehC31r-v3xC",
        "outputId": "3b80a907-8c25-4469-d8bd-04946d7f8c00"
      },
      "execution_count": 6,
      "outputs": [
        {
          "output_type": "stream",
          "name": "stdout",
          "text": [
            "5 4\n"
          ]
        }
      ]
    },
    {
      "cell_type": "markdown",
      "source": [
        "7. Develop a program that prints the squares of numbers from 1 to 5 using a `for` loop."
      ],
      "metadata": {
        "id": "bW-j7i_S2Gr2"
      }
    },
    {
      "cell_type": "code",
      "source": [
        "for i in range (1, 6):\n",
        "  print(\"square of\", i, \"is =\", i ** 2)\n"
      ],
      "metadata": {
        "colab": {
          "base_uri": "https://localhost:8080/"
        },
        "id": "jP9KYozsxQop",
        "outputId": "936fd303-7d58-4fd6-c9cb-ff6fdaa8d84b"
      },
      "execution_count": 7,
      "outputs": [
        {
          "output_type": "stream",
          "name": "stdout",
          "text": [
            "square of 1 is = 1\n",
            "square of 2 is = 4\n",
            "square of 3 is = 9\n",
            "square of 4 is = 16\n",
            "square of 5 is = 25\n"
          ]
        }
      ]
    },
    {
      "cell_type": "markdown",
      "source": [
        "8. Create a program to find the length of a string without using the `len()` function."
      ],
      "metadata": {
        "id": "-PEpxnTS26Yu"
      }
    },
    {
      "cell_type": "code",
      "source": [
        "l = 0\n",
        "str = \"krishna\"\n",
        "for i in str:\n",
        "  l = l+ str.count(i)\n",
        "print(\"Length of string\",str,\"is :\", l)\n"
      ],
      "metadata": {
        "colab": {
          "base_uri": "https://localhost:8080/"
        },
        "id": "s8scQAO922Fb",
        "outputId": "1e402375-c114-46d5-968a-64c3987968a9"
      },
      "execution_count": 8,
      "outputs": [
        {
          "output_type": "stream",
          "name": "stdout",
          "text": [
            "Length of string krishna is : 7\n"
          ]
        }
      ]
    },
    {
      "cell_type": "markdown",
      "source": [
        "9. Write a program that calculates the average of a list of numbers using a `for` loop."
      ],
      "metadata": {
        "id": "PjyFy4f56DLM"
      }
    },
    {
      "cell_type": "code",
      "source": [
        "l2 = [34, 45, 65, 87, 23]\n",
        "count =0\n",
        "sum = 0\n",
        "for i in l2:\n",
        "  count = count + l2.count(i)\n",
        "  sum = sum + i\n",
        "avg = sum / count\n",
        "print(\"average of a list number:\", avg)"
      ],
      "metadata": {
        "colab": {
          "base_uri": "https://localhost:8080/"
        },
        "id": "XLvVqpFc471y",
        "outputId": "0a7f5384-aa30-463b-eff9-02962e7c921c"
      },
      "execution_count": 9,
      "outputs": [
        {
          "output_type": "stream",
          "name": "stdout",
          "text": [
            "average of a list number: 50.8\n"
          ]
        }
      ]
    },
    {
      "cell_type": "markdown",
      "source": [
        "10. Develop a program that prints the first `n` Fibonacci numbers using a `for` loop."
      ],
      "metadata": {
        "id": "TPBOOXxf8X4h"
      }
    },
    {
      "cell_type": "code",
      "source": [
        "# fn(first number) sn(second number) ln(last number)\n",
        "n = 8\n",
        "fn = 0\n",
        "sn = 1\n",
        "\n",
        "print(fn)\n",
        "print(sn)\n",
        "for i in range(1, n):\n",
        "    ln = fn + sn\n",
        "    print(ln)\n",
        "    fn, sn = sn, ln\n"
      ],
      "metadata": {
        "colab": {
          "base_uri": "https://localhost:8080/"
        },
        "id": "LyREKBGv8E3-",
        "outputId": "efe00dd9-8b4d-400a-d9a6-e9f59cbf0846"
      },
      "execution_count": 10,
      "outputs": [
        {
          "output_type": "stream",
          "name": "stdout",
          "text": [
            "0\n",
            "1\n",
            "1\n",
            "2\n",
            "3\n",
            "5\n",
            "8\n",
            "13\n",
            "21\n"
          ]
        }
      ]
    },
    {
      "cell_type": "markdown",
      "source": [
        "### Intermediate Level:"
      ],
      "metadata": {
        "id": "KXM7ncdMEdNl"
      }
    },
    {
      "cell_type": "markdown",
      "source": [
        "11. Write a program to check if a given list contains any duplicates using a `for` loop."
      ],
      "metadata": {
        "id": "P5diE4-KFUE1"
      }
    },
    {
      "cell_type": "code",
      "source": [
        "list = [87, 78, 91, 87, 78]\n",
        "duplicateval = []\n",
        "for i in range(len(list)):\n",
        "  k = i + 1\n",
        "  for j in range(k, len(list)):\n",
        "    if (list[i] == list[j] and (list[i] not in duplicateval)):\n",
        "        duplicateval.append(list[i])\n",
        "\n",
        "if(duplicateval == []):\n",
        " print(\"no duplicate val in list \")\n",
        "else:\n",
        "  print(\"duplicate value in list\", duplicateval)\n",
        "\n"
      ],
      "metadata": {
        "id": "ZIIca0LSCqua",
        "colab": {
          "base_uri": "https://localhost:8080/"
        },
        "outputId": "09d45ad1-d316-4f0f-b9b0-84b40503c286"
      },
      "execution_count": 11,
      "outputs": [
        {
          "output_type": "stream",
          "name": "stdout",
          "text": [
            "duplicate value in list [87, 78]\n"
          ]
        }
      ]
    },
    {
      "cell_type": "markdown",
      "source": [
        "12. Create a program that prints the prime numbers in a given range using a `for` loop."
      ],
      "metadata": {
        "id": "7mmgLO3jXKn8"
      }
    },
    {
      "cell_type": "code",
      "source": [],
      "metadata": {
        "id": "nTqZIB15M-a3"
      },
      "execution_count": 11,
      "outputs": []
    },
    {
      "cell_type": "markdown",
      "source": [
        "13. Develop a program that counts the number of vowels in a string using a `for` loop."
      ],
      "metadata": {
        "id": "3pxdVqlcNK5p"
      }
    },
    {
      "cell_type": "code",
      "source": [
        "str = input(\"enter string:\")\n",
        "s = \"aeiouAeiou\"\n",
        "count = 0\n",
        "for i in str:\n",
        "  if(i in s):\n",
        "    count += 1\n",
        "\n",
        "print(\"number of vowels in\", str,  \"is:\",count)"
      ],
      "metadata": {
        "id": "mw897tGrM2hO",
        "colab": {
          "base_uri": "https://localhost:8080/"
        },
        "outputId": "b337c369-1baf-4241-f5c6-f124250417ec"
      },
      "execution_count": 12,
      "outputs": [
        {
          "output_type": "stream",
          "name": "stdout",
          "text": [
            "enter string:krishna\n",
            "number of vowels in krishna is: 2\n"
          ]
        }
      ]
    },
    {
      "cell_type": "markdown",
      "source": [
        "14. Write a program to find the maximum element in a 2D list using a nested `for` loop.\n",
        "\n"
      ],
      "metadata": {
        "id": "Q9nBXLVAQRJb"
      }
    },
    {
      "cell_type": "code",
      "source": [
        "l = [[48, 55, 67], [78, 98, 89], [56, 99, 108]]\n",
        "m = 0\n",
        "\n",
        "for i in l:\n",
        "   for j in i:\n",
        "    if(j > m):\n",
        "      m = j\n",
        "print(m)\n",
        "\n",
        "\n",
        ""
      ],
      "metadata": {
        "colab": {
          "base_uri": "https://localhost:8080/"
        },
        "id": "EPfApyfqOyka",
        "outputId": "7fa8338e-a9fc-4727-f3e4-6ecd70300d45"
      },
      "execution_count": 25,
      "outputs": [
        {
          "output_type": "stream",
          "name": "stdout",
          "text": [
            "108\n"
          ]
        }
      ]
    },
    {
      "cell_type": "markdown",
      "source": [
        "15. Create a program that removes all occurrences of a specific element from a list using a `for` loop.\n",
        "\n"
      ],
      "metadata": {
        "id": "I3hkWqPN_R6d"
      }
    },
    {
      "cell_type": "code",
      "source": [
        "l = [1, 2, 3, 4, 5, 6, 7, 9, 2, 0, 45, 2]\n",
        "element_remove =2\n",
        "new_l = []\n",
        "for i in l :\n",
        "  if (i != element_remove):\n",
        "    new_l.append(i)\n",
        "\n",
        "print(\"removed element list:\", new_l)\n",
        "\n",
        "\n",
        "\n"
      ],
      "metadata": {
        "id": "BG_S4kSBZgxz",
        "colab": {
          "base_uri": "https://localhost:8080/"
        },
        "outputId": "af1d8665-8d20-4350-df61-e5b9b25b3d82"
      },
      "execution_count": 20,
      "outputs": [
        {
          "output_type": "stream",
          "name": "stdout",
          "text": [
            "removed element list: [1, 3, 4, 5, 6, 7, 9, 0, 45]\n"
          ]
        }
      ]
    },
    {
      "cell_type": "code",
      "source": [
        "# if there is more then one element to remove\n",
        "\n",
        "l = [1, 2, 3, 4, 5, 6, 7, 9, 2, 0, 45, 2]\n",
        "element_remove = [ 2, 45 ]\n",
        "new_l = []\n",
        "for i in l :\n",
        "  if (i not in element_remove):\n",
        "    new_l.append(i)\n",
        "\n",
        "print(\"removed element list:\", new_l)\n"
      ],
      "metadata": {
        "colab": {
          "base_uri": "https://localhost:8080/"
        },
        "id": "awX-x6u2_OmJ",
        "outputId": "eba9dc51-16dc-471f-d630-8242fc8a21fd"
      },
      "execution_count": 21,
      "outputs": [
        {
          "output_type": "stream",
          "name": "stdout",
          "text": [
            "removed element list: [1, 3, 4, 5, 6, 7, 9, 0]\n"
          ]
        }
      ]
    },
    {
      "cell_type": "markdown",
      "source": [
        "17. Write a program that converts a list of Fahrenheit temperatures to Celsius using a `for` loop."
      ],
      "metadata": {
        "id": "0soVU7uINvf7"
      }
    },
    {
      "cell_type": "code",
      "source": [
        "Fahren_list = [ 56, 108, 67, 76]\n",
        "cel_list = []\n",
        "for i in Fahren_list:\n",
        "    cel = (i - 32)*(5/9)\n",
        "    cel_list.append(cel)\n",
        "\n",
        "(\"Fahrenheit converted to Celsius list:\", cel_list)"
      ],
      "metadata": {
        "colab": {
          "base_uri": "https://localhost:8080/"
        },
        "id": "AqwmDM8yG4UY",
        "outputId": "f78d19d0-2647-4bd9-ce8a-e1caf51a6398"
      },
      "execution_count": 28,
      "outputs": [
        {
          "output_type": "execute_result",
          "data": {
            "text/plain": [
              "('Fahrenheit converted to Celsius list:',\n",
              " [13.333333333333334,\n",
              "  42.22222222222222,\n",
              "  19.444444444444446,\n",
              "  24.444444444444446])"
            ]
          },
          "metadata": {},
          "execution_count": 28
        }
      ]
    },
    {
      "cell_type": "markdown",
      "source": [
        "18. Create a program to print the common elements from two lists using a `for` loop."
      ],
      "metadata": {
        "id": "gst9PNgsRAEA"
      }
    },
    {
      "cell_type": "code",
      "source": [
        "c1 = [54, 56, 87, 90, 32, 345, 876, 564]\n",
        "c2 = [90, 54, 45, 56, 92, 345, 876, 654]\n",
        "common_ele = []\n",
        "for i in c1:\n",
        "  for j in c2:\n",
        "    if(i == j):\n",
        "      common_ele.append(i)\n",
        "\n",
        "print(\"common element in c1 and c2 lists are:\",common_ele)"
      ],
      "metadata": {
        "colab": {
          "base_uri": "https://localhost:8080/"
        },
        "id": "rHKsgyu6QQ-9",
        "outputId": "f490d8f2-fa61-4e48-dd25-d3f6208601b3"
      },
      "execution_count": 32,
      "outputs": [
        {
          "output_type": "stream",
          "name": "stdout",
          "text": [
            "common element in c1 and c2 lists are: [54, 56, 90, 345, 876]\n"
          ]
        }
      ]
    },
    {
      "cell_type": "markdown",
      "source": [
        "19. Develop a program that prints the pattern of right-angled triangles using a `for` loop. Use ‘*’ to draw the\n",
        "pattern"
      ],
      "metadata": {
        "id": "wdwDt9zFZAjy"
      }
    },
    {
      "cell_type": "code",
      "source": [
        "for i in range(6):\n",
        "  for j in range(i+1):\n",
        "    print(\"*\", end=\"\")\n",
        "  print(\" \")"
      ],
      "metadata": {
        "colab": {
          "base_uri": "https://localhost:8080/"
        },
        "id": "SFIOuPY8SjCM",
        "outputId": "a7f1b35f-c522-4c24-f258-5a296bcf6db3"
      },
      "execution_count": 43,
      "outputs": [
        {
          "output_type": "stream",
          "name": "stdout",
          "text": [
            "* \n",
            "** \n",
            "*** \n",
            "**** \n",
            "***** \n",
            "****** \n"
          ]
        }
      ]
    },
    {
      "cell_type": "markdown",
      "source": [
        "20. Write a program to find the greatest common divisor (GCD) of two numbers using a `for` loop."
      ],
      "metadata": {
        "id": "PKXZq-Opd_m-"
      }
    },
    {
      "cell_type": "code",
      "source": [],
      "metadata": {
        "id": "fSwN0bW3Z9u7"
      },
      "execution_count": null,
      "outputs": []
    }
  ]
}