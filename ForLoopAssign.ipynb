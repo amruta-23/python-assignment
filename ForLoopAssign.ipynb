{
  "nbformat": 4,
  "nbformat_minor": 0,
  "metadata": {
    "colab": {
      "provenance": [],
      "authorship_tag": "ABX9TyNy205FaxfugPAJhShBg927",
      "include_colab_link": true
    },
    "kernelspec": {
      "name": "python3",
      "display_name": "Python 3"
    },
    "language_info": {
      "name": "python"
    }
  },
  "cells": [
    {
      "cell_type": "markdown",
      "metadata": {
        "id": "view-in-github",
        "colab_type": "text"
      },
      "source": [
        "<a href=\"https://colab.research.google.com/github/amruta-23/python-assignment/blob/main/ForLoopAssign.ipynb\" target=\"_parent\"><img src=\"https://colab.research.google.com/assets/colab-badge.svg\" alt=\"Open In Colab\"/></a>"
      ]
    },
    {
      "cell_type": "markdown",
      "source": [
        "### Basic level"
      ],
      "metadata": {
        "id": "XK8od-cOnUGC"
      }
    },
    {
      "cell_type": "markdown",
      "source": [
        "1. Write a Python program to print the numbers from 1 to 10 using a `for` loop."
      ],
      "metadata": {
        "id": "lbX5p7WzoFxq"
      }
    },
    {
      "cell_type": "code",
      "execution_count": null,
      "metadata": {
        "colab": {
          "base_uri": "https://localhost:8080/"
        },
        "id": "RvDleRC1m6gK",
        "outputId": "f5dd3cbe-07ab-485a-b342-afb89f1621ab"
      },
      "outputs": [
        {
          "output_type": "stream",
          "name": "stdout",
          "text": [
            "1\n",
            "2\n",
            "3\n",
            "4\n",
            "5\n",
            "6\n",
            "7\n",
            "8\n",
            "9\n",
            "10\n"
          ]
        }
      ],
      "source": [
        "for number in range(1, 11):\n",
        "   print(number)"
      ]
    },
    {
      "cell_type": "markdown",
      "source": [
        "2. Create a program that calculates the sum of all numbers in a list using a `for` loop."
      ],
      "metadata": {
        "id": "MNZ3uKFvopjx"
      }
    },
    {
      "cell_type": "code",
      "source": [
        "sum=0\n",
        "l = [1, 2, 3, 4]\n",
        "for i in l:\n",
        "  sum +=i\n",
        "\n",
        "print(sum)"
      ],
      "metadata": {
        "colab": {
          "base_uri": "https://localhost:8080/"
        },
        "id": "zMD_SW-2oZkp",
        "outputId": "560f5ecc-c46f-4991-dc25-ac41b073430a"
      },
      "execution_count": null,
      "outputs": [
        {
          "output_type": "stream",
          "name": "stdout",
          "text": [
            "10\n"
          ]
        }
      ]
    },
    {
      "cell_type": "markdown",
      "source": [
        "3. Write a program to print the characters of a string in reverse order using a `for` loop."
      ],
      "metadata": {
        "id": "QIr09Oj9q5VT"
      }
    },
    {
      "cell_type": "code",
      "source": [
        "str = \"karnataka\"\n",
        "str1 = \"\"\n",
        "for i in str:\n",
        "  str1 = i + str1\n",
        "print(str1)"
      ],
      "metadata": {
        "colab": {
          "base_uri": "https://localhost:8080/"
        },
        "id": "26Onf4D1p4dp",
        "outputId": "b2c6b90e-9ea2-4acc-ed77-8474130d95f0"
      },
      "execution_count": null,
      "outputs": [
        {
          "output_type": "stream",
          "name": "stdout",
          "text": [
            "akatanrak\n"
          ]
        }
      ]
    },
    {
      "cell_type": "markdown",
      "source": [
        "4. Develop a program that finds the factorial of a given number using a `for` loop."
      ],
      "metadata": {
        "id": "jC816x3QswG6"
      }
    },
    {
      "cell_type": "code",
      "source": [
        "n = 4\n",
        "fact = 1\n",
        "for i in range(1, n+1):\n",
        "  fact = fact * i\n",
        "print(fact)"
      ],
      "metadata": {
        "colab": {
          "base_uri": "https://localhost:8080/"
        },
        "id": "ou-Dq1RzsQeH",
        "outputId": "d770aaab-bd64-45b5-bc94-2c5c9cb287e2"
      },
      "execution_count": null,
      "outputs": [
        {
          "output_type": "stream",
          "name": "stdout",
          "text": [
            "24\n"
          ]
        }
      ]
    },
    {
      "cell_type": "markdown",
      "source": [
        "5. Create a program to print the multiplication table of a given number using a `for` loop."
      ],
      "metadata": {
        "id": "FGHC1OXOvCYm"
      }
    },
    {
      "cell_type": "code",
      "source": [
        "for i in range (1, 11):\n",
        "  print(\"2 X \",i,\"=\", 2 * i)"
      ],
      "metadata": {
        "colab": {
          "base_uri": "https://localhost:8080/"
        },
        "id": "bnb_-PVIuNp9",
        "outputId": "7c8034a5-22d7-41ce-f999-6f0326a4e077"
      },
      "execution_count": null,
      "outputs": [
        {
          "output_type": "stream",
          "name": "stdout",
          "text": [
            "2 X  1 = 2\n",
            "2 X  2 = 4\n",
            "2 X  3 = 6\n",
            "2 X  4 = 8\n",
            "2 X  5 = 10\n",
            "2 X  6 = 12\n",
            "2 X  7 = 14\n",
            "2 X  8 = 16\n",
            "2 X  9 = 18\n",
            "2 X  10 = 20\n"
          ]
        }
      ]
    },
    {
      "cell_type": "markdown",
      "source": [
        "6. Write a program that counts the number of even and odd numbers in a list using a `for` loop."
      ],
      "metadata": {
        "id": "qj9pl9B_wCtr"
      }
    },
    {
      "cell_type": "code",
      "source": [
        "l1 = [33, 46, 75, 78, 54, 67, 43, 48, 62]\n",
        "evenCount = 0\n",
        "oddCount = 0\n",
        "for i in l1:\n",
        "  if(i % 2 == 0):\n",
        "   evenCount = 1 + evenCount\n",
        "  else:\n",
        "     oddCount = 1 + oddCount\n",
        "\n",
        "print(evenCount, oddCount)"
      ],
      "metadata": {
        "colab": {
          "base_uri": "https://localhost:8080/"
        },
        "id": "qehC31r-v3xC",
        "outputId": "d3dc2709-4951-492a-85a0-42c8df96b9f2"
      },
      "execution_count": null,
      "outputs": [
        {
          "output_type": "stream",
          "name": "stdout",
          "text": [
            "5 4\n"
          ]
        }
      ]
    },
    {
      "cell_type": "markdown",
      "source": [
        "7. Develop a program that prints the squares of numbers from 1 to 5 using a `for` loop."
      ],
      "metadata": {
        "id": "bW-j7i_S2Gr2"
      }
    },
    {
      "cell_type": "code",
      "source": [
        "for i in range (1, 6):\n",
        "  print(\"square of\", i, \"is =\", i ** 2)\n"
      ],
      "metadata": {
        "colab": {
          "base_uri": "https://localhost:8080/"
        },
        "id": "jP9KYozsxQop",
        "outputId": "217d3acb-7ab2-441e-b4ad-2d9cda05b921"
      },
      "execution_count": null,
      "outputs": [
        {
          "output_type": "stream",
          "name": "stdout",
          "text": [
            "square of 1 is = 1\n",
            "square of 2 is = 4\n",
            "square of 3 is = 9\n",
            "square of 4 is = 16\n",
            "square of 5 is = 25\n"
          ]
        }
      ]
    },
    {
      "cell_type": "markdown",
      "source": [
        "8. Create a program to find the length of a string without using the `len()` function."
      ],
      "metadata": {
        "id": "-PEpxnTS26Yu"
      }
    },
    {
      "cell_type": "code",
      "source": [
        "l = 0\n",
        "str = \"krishna\"\n",
        "for i in str:\n",
        "  l = l+ str.count(i)\n",
        "print(\"Length of string\",str,\"is :\", l)\n"
      ],
      "metadata": {
        "colab": {
          "base_uri": "https://localhost:8080/"
        },
        "id": "s8scQAO922Fb",
        "outputId": "a942d296-25c3-487f-943a-fcb6eebe78f4"
      },
      "execution_count": null,
      "outputs": [
        {
          "output_type": "stream",
          "name": "stdout",
          "text": [
            "Length of string krishna is : 7\n"
          ]
        }
      ]
    },
    {
      "cell_type": "markdown",
      "source": [
        "9. Write a program that calculates the average of a list of numbers using a `for` loop."
      ],
      "metadata": {
        "id": "PjyFy4f56DLM"
      }
    },
    {
      "cell_type": "code",
      "source": [
        "l2 = [34, 45, 65, 87, 23]\n",
        "count =0\n",
        "sum = 0\n",
        "for i in l2:\n",
        "  count = count + l2.count(i)\n",
        "  sum = sum + i\n",
        "avg = sum / count\n",
        "print(\"average of a list number:\", avg)"
      ],
      "metadata": {
        "colab": {
          "base_uri": "https://localhost:8080/"
        },
        "id": "XLvVqpFc471y",
        "outputId": "0dbd55ed-c420-4576-9c0e-da829ff6751a"
      },
      "execution_count": null,
      "outputs": [
        {
          "output_type": "stream",
          "name": "stdout",
          "text": [
            "average of a list number: 50.8\n"
          ]
        }
      ]
    },
    {
      "cell_type": "markdown",
      "source": [
        "10. Develop a program that prints the first `n` Fibonacci numbers using a `for` loop."
      ],
      "metadata": {
        "id": "TPBOOXxf8X4h"
      }
    },
    {
      "cell_type": "code",
      "source": [
        "# fn(first number) sn(second number) ln(last number)\n",
        "n = 8\n",
        "fn = 0\n",
        "sn = 1\n",
        "\n",
        "print(fn)\n",
        "print(sn)\n",
        "for i in range(1, n):\n",
        "    ln = fn + sn\n",
        "    print(ln)\n",
        "    fn, sn = sn, ln\n"
      ],
      "metadata": {
        "colab": {
          "base_uri": "https://localhost:8080/"
        },
        "id": "LyREKBGv8E3-",
        "outputId": "f0f391dc-2f29-42d7-dfb9-d2e7ec8d6796"
      },
      "execution_count": null,
      "outputs": [
        {
          "output_type": "stream",
          "name": "stdout",
          "text": [
            "0\n",
            "1\n",
            "1\n",
            "2\n",
            "3\n",
            "5\n",
            "8\n",
            "13\n",
            "21\n"
          ]
        }
      ]
    },
    {
      "cell_type": "markdown",
      "source": [
        "### Intermediate Level:"
      ],
      "metadata": {
        "id": "KXM7ncdMEdNl"
      }
    },
    {
      "cell_type": "markdown",
      "source": [
        "11. Write a program to check if a given list contains any duplicates using a `for` loop."
      ],
      "metadata": {
        "id": "P5diE4-KFUE1"
      }
    },
    {
      "cell_type": "code",
      "source": [
        "list = [87, 78, 91, 87, 78]\n",
        "duplicateval = []\n",
        "for i in range(len(list)):\n",
        "  k = i + 1\n",
        "  for j in range(k, len(list)):\n",
        "    if (list[i] == list[j] and (list[i] not in duplicateval)):\n",
        "        duplicateval.append(list[i])\n",
        "\n",
        "if(duplicateval == []):\n",
        " print(\"no duplicate val in list \")\n",
        "else:\n",
        "  print(\"duplicate value in list\", duplicateval)\n",
        "\n"
      ],
      "metadata": {
        "id": "ZIIca0LSCqua",
        "colab": {
          "base_uri": "https://localhost:8080/"
        },
        "outputId": "88e3382b-5558-4099-ef91-c0aaa8b0fdc0"
      },
      "execution_count": null,
      "outputs": [
        {
          "output_type": "stream",
          "name": "stdout",
          "text": [
            "duplicate value in list [87, 78]\n"
          ]
        }
      ]
    },
    {
      "cell_type": "markdown",
      "source": [
        "12. Create a program that prints the prime numbers in a given range using a `for` loop."
      ],
      "metadata": {
        "id": "7mmgLO3jXKn8"
      }
    },
    {
      "cell_type": "code",
      "source": [],
      "metadata": {
        "id": "nTqZIB15M-a3"
      },
      "execution_count": null,
      "outputs": []
    },
    {
      "cell_type": "markdown",
      "source": [
        "13. Develop a program that counts the number of vowels in a string using a `for` loop."
      ],
      "metadata": {
        "id": "3pxdVqlcNK5p"
      }
    },
    {
      "cell_type": "code",
      "source": [
        "str = input(\"enter string:\")\n",
        "s = \"aeiouAeiou\"\n",
        "count = 0\n",
        "for i in str:\n",
        "  if(i in s):\n",
        "    count += 1\n",
        "\n",
        "print(\"number of vowels in\", str,  \"is:\",count)"
      ],
      "metadata": {
        "id": "mw897tGrM2hO",
        "colab": {
          "base_uri": "https://localhost:8080/"
        },
        "outputId": "5190d667-5ef3-4ca3-8be5-cc5c1f3d2d12"
      },
      "execution_count": null,
      "outputs": [
        {
          "output_type": "stream",
          "name": "stdout",
          "text": [
            "enter string:krishna\n",
            "number of vowels in krishna is: 2\n"
          ]
        }
      ]
    },
    {
      "cell_type": "markdown",
      "source": [
        "14. Write a program to find the maximum element in a 2D list using a nested `for` loop.\n",
        "\n"
      ],
      "metadata": {
        "id": "Q9nBXLVAQRJb"
      }
    },
    {
      "cell_type": "code",
      "source": [
        "l = [[48, 55, 67], [78, 98, 89], [56, 99, 108]]\n",
        "m = 0\n",
        "\n",
        "for i in l:\n",
        "   for j in i:\n",
        "    if(j > m):\n",
        "      m = j\n",
        "print(m)\n",
        "\n",
        "\n"
      ],
      "metadata": {
        "colab": {
          "base_uri": "https://localhost:8080/"
        },
        "id": "EPfApyfqOyka",
        "outputId": "4cc16fb9-fb89-4283-fb7e-9c6accf9959c"
      },
      "execution_count": null,
      "outputs": [
        {
          "output_type": "stream",
          "name": "stdout",
          "text": [
            "108\n"
          ]
        }
      ]
    },
    {
      "cell_type": "markdown",
      "source": [
        "15. Create a program that removes all occurrences of a specific element from a list using a `for` loop.\n",
        "\n"
      ],
      "metadata": {
        "id": "I3hkWqPN_R6d"
      }
    },
    {
      "cell_type": "code",
      "source": [
        "l = [1, 2, 3, 4, 5, 6, 7, 9, 2, 0, 45, 2]\n",
        "element_remove =2\n",
        "new_l = []\n",
        "for i in l :\n",
        "  if (i != element_remove):\n",
        "    new_l.append(i)\n",
        "\n",
        "print(\"removed element list:\", new_l)\n",
        "\n",
        "\n",
        "\n"
      ],
      "metadata": {
        "id": "BG_S4kSBZgxz",
        "colab": {
          "base_uri": "https://localhost:8080/"
        },
        "outputId": "c3c18f14-530d-451b-ebd9-1d99a2f28960"
      },
      "execution_count": null,
      "outputs": [
        {
          "output_type": "stream",
          "name": "stdout",
          "text": [
            "removed element list: [1, 3, 4, 5, 6, 7, 9, 0, 45]\n"
          ]
        }
      ]
    },
    {
      "cell_type": "code",
      "source": [
        "# if there is more then one element to remove\n",
        "\n",
        "l = [1, 2, 3, 4, 5, 6, 7, 9, 2, 0, 45, 2]\n",
        "element_remove = [ 2, 45 ]\n",
        "new_l = []\n",
        "for i in l :\n",
        "  if (i not in element_remove):\n",
        "    new_l.append(i)\n",
        "\n",
        "print(\"removed element list:\", new_l)\n"
      ],
      "metadata": {
        "colab": {
          "base_uri": "https://localhost:8080/"
        },
        "id": "awX-x6u2_OmJ",
        "outputId": "73808057-4859-492d-baa9-a677e7a381be"
      },
      "execution_count": null,
      "outputs": [
        {
          "output_type": "stream",
          "name": "stdout",
          "text": [
            "removed element list: [1, 3, 4, 5, 6, 7, 9, 0]\n"
          ]
        }
      ]
    },
    {
      "cell_type": "markdown",
      "source": [
        "17. Write a program that converts a list of Fahrenheit temperatures to Celsius using a `for` loop."
      ],
      "metadata": {
        "id": "0soVU7uINvf7"
      }
    },
    {
      "cell_type": "code",
      "source": [
        "Fahren_list = [ 56, 108, 67, 76]\n",
        "cel_list = []\n",
        "for i in Fahren_list:\n",
        "    cel = (i - 32)*(5/9)\n",
        "    cel_list.append(cel)\n",
        "\n",
        "(\"Fahrenheit converted to Celsius list:\", cel_list)"
      ],
      "metadata": {
        "colab": {
          "base_uri": "https://localhost:8080/"
        },
        "id": "AqwmDM8yG4UY",
        "outputId": "4cf8342f-d97b-40ee-d9ab-ae440e4b51b8"
      },
      "execution_count": null,
      "outputs": [
        {
          "output_type": "execute_result",
          "data": {
            "text/plain": [
              "('Fahrenheit converted to Celsius list:',\n",
              " [13.333333333333334,\n",
              "  42.22222222222222,\n",
              "  19.444444444444446,\n",
              "  24.444444444444446])"
            ]
          },
          "metadata": {},
          "execution_count": 61
        }
      ]
    },
    {
      "cell_type": "markdown",
      "source": [
        "18. Create a program to print the common elements from two lists using a `for` loop."
      ],
      "metadata": {
        "id": "gst9PNgsRAEA"
      }
    },
    {
      "cell_type": "code",
      "source": [
        "c1 = [54, 56, 87, 90, 32, 345, 876, 564]\n",
        "c2 = [90, 54, 45, 56, 92, 345, 876, 654]\n",
        "common_ele = []\n",
        "for i in c1:\n",
        "  for j in c2:\n",
        "    if(i == j):\n",
        "      common_ele.append(i)\n",
        "\n",
        "print(\"common element in c1 and c2 lists are:\",common_ele)"
      ],
      "metadata": {
        "colab": {
          "base_uri": "https://localhost:8080/"
        },
        "id": "rHKsgyu6QQ-9",
        "outputId": "fba28f79-6d31-4a68-b03e-e44bf8de6b27"
      },
      "execution_count": null,
      "outputs": [
        {
          "output_type": "stream",
          "name": "stdout",
          "text": [
            "common element in c1 and c2 lists are: [54, 56, 90, 345, 876]\n"
          ]
        }
      ]
    },
    {
      "cell_type": "markdown",
      "source": [
        "19. Develop a program that prints the pattern of right-angled triangles using a `for` loop. Use ‘*’ to draw the\n",
        "pattern"
      ],
      "metadata": {
        "id": "wdwDt9zFZAjy"
      }
    },
    {
      "cell_type": "code",
      "source": [
        "for i in range(6):\n",
        "  for j in range(i+1):\n",
        "    print(\"*\", end=\"\")\n",
        "  print(\" \")"
      ],
      "metadata": {
        "colab": {
          "base_uri": "https://localhost:8080/"
        },
        "id": "SFIOuPY8SjCM",
        "outputId": "286eb4ff-c5c1-4ca0-eaa3-6e9311ccffbb"
      },
      "execution_count": null,
      "outputs": [
        {
          "output_type": "stream",
          "name": "stdout",
          "text": [
            "* \n",
            "** \n",
            "*** \n",
            "**** \n",
            "***** \n",
            "****** \n"
          ]
        }
      ]
    },
    {
      "cell_type": "markdown",
      "source": [
        "20. Write a program to find the greatest common divisor (GCD) of two numbers using a `for` loop."
      ],
      "metadata": {
        "id": "PKXZq-Opd_m-"
      }
    },
    {
      "cell_type": "code",
      "source": [
        "num1 = 56\n",
        "num2 = 76\n",
        "\n",
        "for i in range(1, min(num1, num2) + 1):\n",
        "  if num1 % i == 0 and num2 % i == 0:\n",
        "       gcd = i\n",
        "\n",
        "\n",
        "print(gcd)"
      ],
      "metadata": {
        "id": "fSwN0bW3Z9u7",
        "colab": {
          "base_uri": "https://localhost:8080/"
        },
        "outputId": "49d17ca0-f76d-4761-fcbd-6105b7d2a736"
      },
      "execution_count": null,
      "outputs": [
        {
          "output_type": "stream",
          "name": "stdout",
          "text": [
            "4\n"
          ]
        }
      ]
    },
    {
      "cell_type": "markdown",
      "source": [
        " Create a program that calculates the sum of the digits of numbers in a list using a list comprehension."
      ],
      "metadata": {
        "id": "hvG45aB32Ox9"
      }
    },
    {
      "cell_type": "code",
      "source": [
        "l = [sum(i for i in [34, 67, 89, 65])]\n",
        "print(l)"
      ],
      "metadata": {
        "id": "R-TPz3ey2BEw",
        "colab": {
          "base_uri": "https://localhost:8080/"
        },
        "outputId": "ac525f6a-8c3d-47d4-fda6-de5419698120"
      },
      "execution_count": null,
      "outputs": [
        {
          "output_type": "stream",
          "name": "stdout",
          "text": [
            "[255]\n"
          ]
        }
      ]
    },
    {
      "cell_type": "markdown",
      "source": [
        "22. Write a program to find the prime factors of a given number using a `for` loop and list comprehension."
      ],
      "metadata": {
        "id": "Jz32DE1UHczJ"
      }
    },
    {
      "cell_type": "code",
      "source": [
        "\n"
      ],
      "metadata": {
        "id": "h6DVJfS83fEi"
      },
      "execution_count": null,
      "outputs": []
    },
    {
      "cell_type": "markdown",
      "source": [
        " Develop a program that extracts unique elements from a list and stores them in a new list using a list\n",
        "comprehension."
      ],
      "metadata": {
        "id": "lXgW4xpSLW4J"
      }
    },
    {
      "cell_type": "code",
      "source": [
        "uni_ele = [45, 78, 56]\n",
        "s = []\n",
        "l = [s.append(i) for i in [56, 78, 45, 76, 102, 98] if i in uni_ele]\n",
        "print (s)\n"
      ],
      "metadata": {
        "id": "4aRtGp7WEfSH",
        "colab": {
          "base_uri": "https://localhost:8080/"
        },
        "outputId": "3020ab4a-322b-4280-f3f9-ea386e4ea63d"
      },
      "execution_count": null,
      "outputs": [
        {
          "output_type": "stream",
          "name": "stdout",
          "text": [
            "[56, 78, 45]\n"
          ]
        }
      ]
    },
    {
      "cell_type": "markdown",
      "source": [
        " Create a program that generates a list of all palindromic numbers up to a specified limit using a list\n",
        "comprehension."
      ],
      "metadata": {
        "id": "_r2XMIWFQcr1"
      }
    },
    {
      "cell_type": "code",
      "source": [
        "limit =int(input(\"Enter limit:\"))\n",
        "is_pal = []\n",
        "l = [is_pal.append(i) for i in range(10, limit + 1) if str(i)  == str(i)[::-1]]\n",
        "print(is_pal)\n"
      ],
      "metadata": {
        "id": "l2vE6ROTEqrS",
        "colab": {
          "base_uri": "https://localhost:8080/"
        },
        "outputId": "19339dbb-380d-4f45-a9e4-c202dded2de5"
      },
      "execution_count": null,
      "outputs": [
        {
          "output_type": "stream",
          "name": "stdout",
          "text": [
            "Enter limit:500\n",
            "[11, 22, 33, 44, 55, 66, 77, 88, 99, 101, 111, 121, 131, 141, 151, 161, 171, 181, 191, 202, 212, 222, 232, 242, 252, 262, 272, 282, 292, 303, 313, 323, 333, 343, 353, 363, 373, 383, 393, 404, 414, 424, 434, 444, 454, 464, 474, 484, 494]\n"
          ]
        }
      ]
    },
    {
      "cell_type": "markdown",
      "source": [
        "25. Write a program to flatten a nested list. Using list comprehension"
      ],
      "metadata": {
        "id": "mCfZwMeyWkNc"
      }
    },
    {
      "cell_type": "code",
      "source": [
        "l = [element for i in [[43, 34, 56], [67, 76, 89], [99, 58, 98]] for element in i]\n",
        "l\n"
      ],
      "metadata": {
        "id": "PH4bIKJDEvMs",
        "colab": {
          "base_uri": "https://localhost:8080/"
        },
        "outputId": "0a065c8a-fa3b-47f0-d908-01445ce10315"
      },
      "execution_count": null,
      "outputs": [
        {
          "output_type": "execute_result",
          "data": {
            "text/plain": [
              "[43, 34, 56, 67, 76, 89, 99, 58, 98]"
            ]
          },
          "metadata": {},
          "execution_count": 7
        }
      ]
    },
    {
      "cell_type": "markdown",
      "source": [
        "Develop a program that computes the sum of even and odd numbers in a list separately using list\n",
        "comprehension."
      ],
      "metadata": {
        "id": "HwtCkxLcZl9Q"
      }
    },
    {
      "cell_type": "code",
      "source": [
        "even = [ i for i in range(1, 20) if i % 2 == 0 ]\n",
        "print(\"even numbers:\", even)\n",
        "sum_even = [sum(even)]\n",
        "print(\"sum of even numbers:\", sum_even)\n",
        "\n",
        "odd = [ i for i in range(1, 20) if i % 2 != 0]\n",
        "print(\"odd numbers:\", odd)\n",
        "sum_odd = [sum(odd)]\n",
        "print(\"sum of odd numbers:\", sum_odd)\n",
        "\n"
      ],
      "metadata": {
        "id": "7bFcIFKoTCVI",
        "colab": {
          "base_uri": "https://localhost:8080/"
        },
        "outputId": "be90f8c6-b0d8-498f-c1e6-df08fd8d50ad"
      },
      "execution_count": null,
      "outputs": [
        {
          "output_type": "stream",
          "name": "stdout",
          "text": [
            "even numbers: [2, 4, 6, 8, 10, 12, 14, 16, 18]\n",
            "sum of even numbers: [90]\n",
            "odd numbers: [1, 3, 5, 7, 9, 11, 13, 15, 17, 19]\n",
            "sum of odd numbers: [100]\n"
          ]
        }
      ]
    },
    {
      "cell_type": "markdown",
      "source": [
        "27. Create a program that generates a list of squares of odd numbers between 1 and 10 using list\n",
        "comprehension."
      ],
      "metadata": {
        "id": "F2KNgWBGmPzG"
      }
    },
    {
      "cell_type": "code",
      "source": [
        "square_no = [i**2 for i in range(1, 10) if i % 2 != 0]\n",
        "square_no"
      ],
      "metadata": {
        "id": "ZYv1o05bcxrT",
        "colab": {
          "base_uri": "https://localhost:8080/"
        },
        "outputId": "68a0b528-2fe1-42cb-e36e-37b1fa3cd80f"
      },
      "execution_count": null,
      "outputs": [
        {
          "output_type": "execute_result",
          "data": {
            "text/plain": [
              "[1, 9, 25, 49, 81]"
            ]
          },
          "metadata": {},
          "execution_count": 8
        }
      ]
    },
    {
      "cell_type": "markdown",
      "source": [
        "28. Write a program that combines two lists into a dictionary using list comprehension.\n",
        "\n"
      ],
      "metadata": {
        "id": "O7Aqp4g3w1Qs"
      }
    },
    {
      "cell_type": "code",
      "source": [
        "\n",
        "keys = input(\"Enter a list of keys separated by spaces: \").split()\n",
        "values = input(\"Enter a list of values separated by spaces: \").split()\n",
        "\n",
        "\n",
        "combined_dict = {keys[i]: values[i] for i in range(min(len(keys), len(values)))}\n",
        "\n",
        "\n",
        "print(\"Combined Dictionary:\", combined_dict)\n"
      ],
      "metadata": {
        "id": "NAtFwv7klaW_",
        "colab": {
          "base_uri": "https://localhost:8080/"
        },
        "outputId": "99448399-a816-43e2-8cb6-c476cf3e8632"
      },
      "execution_count": null,
      "outputs": [
        {
          "output_type": "stream",
          "name": "stdout",
          "text": [
            "Enter a list of keys separated by spaces: python c c++ javascript\n",
            "Enter a list of values separated by spaces: 56 78 90 89\n",
            "Combined Dictionary: {'python': '56', 'c': '78', 'c++': '90', 'javascript': '89'}\n"
          ]
        }
      ]
    },
    {
      "cell_type": "markdown",
      "source": [
        "29. Develop a program that extracts the vowels from a string and stores them in a list using list comprehension."
      ],
      "metadata": {
        "id": "rckdnmgwuHj4"
      }
    },
    {
      "cell_type": "code",
      "source": [
        "str ='aeiouAEIOU'\n",
        "str1 = input(\"Enter string:\")\n",
        "l = [i for i in str1 if i in str ]\n",
        "print(l)"
      ],
      "metadata": {
        "id": "xn-Q95Wbli06",
        "colab": {
          "base_uri": "https://localhost:8080/"
        },
        "outputId": "642e92a5-1264-42f9-9c72-fa5d077d89cb"
      },
      "execution_count": null,
      "outputs": [
        {
          "output_type": "stream",
          "name": "stdout",
          "text": [
            "Enter string:krishna\n",
            "['i', 'a']\n"
          ]
        }
      ]
    },
    {
      "cell_type": "markdown",
      "source": [
        "30. Create a program that removes all non-numeric characters from a list of strings using list comprehension."
      ],
      "metadata": {
        "id": "horT9mI_3oSW"
      }
    },
    {
      "cell_type": "code",
      "source": [
        "#num = [ i  for i in [67, 89, 'hi', 90, '-', 76, '#', 88] if str(i).isnumeric() == True]\n",
        "#print(num) this code is working in another google colab notebook but here it is showing error."
      ],
      "metadata": {
        "id": "vxUlAglH3lwf"
      },
      "execution_count": null,
      "outputs": []
    },
    {
      "cell_type": "markdown",
      "source": [
        "![Screenshot 2023-09-20 070951.png](data:image/png;base64,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)"
      ],
      "metadata": {
        "id": "m0svbljJPzb3"
      }
    },
    {
      "cell_type": "markdown",
      "source": [
        "Challenge Level:"
      ],
      "metadata": {
        "id": "0tT-QFAhBdTs"
      }
    },
    {
      "cell_type": "markdown",
      "source": [
        "31. Write a program to generate a list of prime numbers using the Sieve of Eratosthenes algorithm and list\n",
        "compreh"
      ],
      "metadata": {
        "id": "4UKkZVspBomY"
      }
    },
    {
      "cell_type": "code",
      "source": [],
      "metadata": {
        "id": "isMqlPWNygnf"
      },
      "execution_count": null,
      "outputs": []
    },
    {
      "cell_type": "code",
      "source": [
        "\n",
        "\n"
      ],
      "metadata": {
        "id": "2AqAgAHH1Ft0"
      },
      "execution_count": null,
      "outputs": []
    },
    {
      "cell_type": "code",
      "source": [],
      "metadata": {
        "id": "fxKLFJktIZdx"
      },
      "execution_count": null,
      "outputs": []
    }
  ]
}