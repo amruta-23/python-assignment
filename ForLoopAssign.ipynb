{
  "nbformat": 4,
  "nbformat_minor": 0,
  "metadata": {
    "colab": {
      "provenance": [],
      "authorship_tag": "ABX9TyM/rRubfHlmlAozGc9uctKQ",
      "include_colab_link": true
    },
    "kernelspec": {
      "name": "python3",
      "display_name": "Python 3"
    },
    "language_info": {
      "name": "python"
    }
  },
  "cells": [
    {
      "cell_type": "markdown",
      "metadata": {
        "id": "view-in-github",
        "colab_type": "text"
      },
      "source": [
        "<a href=\"https://colab.research.google.com/github/amruta-23/python-assignment/blob/main/ForLoopAssign.ipynb\" target=\"_parent\"><img src=\"https://colab.research.google.com/assets/colab-badge.svg\" alt=\"Open In Colab\"/></a>"
      ]
    },
    {
      "cell_type": "markdown",
      "source": [
        "### Basic level"
      ],
      "metadata": {
        "id": "XK8od-cOnUGC"
      }
    },
    {
      "cell_type": "markdown",
      "source": [
        "1. Write a Python program to print the numbers from 1 to 10 using a `for` loop."
      ],
      "metadata": {
        "id": "lbX5p7WzoFxq"
      }
    },
    {
      "cell_type": "code",
      "execution_count": null,
      "metadata": {
        "colab": {
          "base_uri": "https://localhost:8080/"
        },
        "id": "RvDleRC1m6gK",
        "outputId": "f5dd3cbe-07ab-485a-b342-afb89f1621ab"
      },
      "outputs": [
        {
          "output_type": "stream",
          "name": "stdout",
          "text": [
            "1\n",
            "2\n",
            "3\n",
            "4\n",
            "5\n",
            "6\n",
            "7\n",
            "8\n",
            "9\n",
            "10\n"
          ]
        }
      ],
      "source": [
        "for number in range(1, 11):\n",
        "   print(number)"
      ]
    },
    {
      "cell_type": "markdown",
      "source": [
        "2. Create a program that calculates the sum of all numbers in a list using a `for` loop."
      ],
      "metadata": {
        "id": "MNZ3uKFvopjx"
      }
    },
    {
      "cell_type": "code",
      "source": [
        "sum=0\n",
        "l = [1, 2, 3, 4]\n",
        "for i in l:\n",
        "  sum +=i\n",
        "\n",
        "print(sum)"
      ],
      "metadata": {
        "colab": {
          "base_uri": "https://localhost:8080/"
        },
        "id": "zMD_SW-2oZkp",
        "outputId": "560f5ecc-c46f-4991-dc25-ac41b073430a"
      },
      "execution_count": null,
      "outputs": [
        {
          "output_type": "stream",
          "name": "stdout",
          "text": [
            "10\n"
          ]
        }
      ]
    },
    {
      "cell_type": "markdown",
      "source": [
        "3. Write a program to print the characters of a string in reverse order using a `for` loop."
      ],
      "metadata": {
        "id": "QIr09Oj9q5VT"
      }
    },
    {
      "cell_type": "code",
      "source": [
        "str = \"karnataka\"\n",
        "str1 = \"\"\n",
        "for i in str:\n",
        "  str1 = i + str1\n",
        "print(str1)"
      ],
      "metadata": {
        "colab": {
          "base_uri": "https://localhost:8080/"
        },
        "id": "26Onf4D1p4dp",
        "outputId": "b2c6b90e-9ea2-4acc-ed77-8474130d95f0"
      },
      "execution_count": null,
      "outputs": [
        {
          "output_type": "stream",
          "name": "stdout",
          "text": [
            "akatanrak\n"
          ]
        }
      ]
    },
    {
      "cell_type": "markdown",
      "source": [
        "4. Develop a program that finds the factorial of a given number using a `for` loop."
      ],
      "metadata": {
        "id": "jC816x3QswG6"
      }
    },
    {
      "cell_type": "code",
      "source": [
        "n = 4\n",
        "fact = 1\n",
        "for i in range(1, n+1):\n",
        "  fact = fact * i\n",
        "print(fact)"
      ],
      "metadata": {
        "colab": {
          "base_uri": "https://localhost:8080/"
        },
        "id": "ou-Dq1RzsQeH",
        "outputId": "d770aaab-bd64-45b5-bc94-2c5c9cb287e2"
      },
      "execution_count": null,
      "outputs": [
        {
          "output_type": "stream",
          "name": "stdout",
          "text": [
            "24\n"
          ]
        }
      ]
    },
    {
      "cell_type": "markdown",
      "source": [
        "5. Create a program to print the multiplication table of a given number using a `for` loop."
      ],
      "metadata": {
        "id": "FGHC1OXOvCYm"
      }
    },
    {
      "cell_type": "code",
      "source": [
        "for i in range (1, 11):\n",
        "  print(\"2 X \",i,\"=\", 2 * i)"
      ],
      "metadata": {
        "colab": {
          "base_uri": "https://localhost:8080/"
        },
        "id": "bnb_-PVIuNp9",
        "outputId": "7c8034a5-22d7-41ce-f999-6f0326a4e077"
      },
      "execution_count": null,
      "outputs": [
        {
          "output_type": "stream",
          "name": "stdout",
          "text": [
            "2 X  1 = 2\n",
            "2 X  2 = 4\n",
            "2 X  3 = 6\n",
            "2 X  4 = 8\n",
            "2 X  5 = 10\n",
            "2 X  6 = 12\n",
            "2 X  7 = 14\n",
            "2 X  8 = 16\n",
            "2 X  9 = 18\n",
            "2 X  10 = 20\n"
          ]
        }
      ]
    },
    {
      "cell_type": "markdown",
      "source": [
        "6. Write a program that counts the number of even and odd numbers in a list using a `for` loop."
      ],
      "metadata": {
        "id": "qj9pl9B_wCtr"
      }
    },
    {
      "cell_type": "code",
      "source": [
        "l1 = [33, 46, 75, 78, 54, 67, 43, 48, 62]\n",
        "evenCount = 0\n",
        "oddCount = 0\n",
        "for i in l1:\n",
        "  if(i % 2 == 0):\n",
        "   evenCount = 1 + evenCount\n",
        "  else:\n",
        "     oddCount = 1 + oddCount\n",
        "\n",
        "print(evenCount, oddCount)"
      ],
      "metadata": {
        "colab": {
          "base_uri": "https://localhost:8080/"
        },
        "id": "qehC31r-v3xC",
        "outputId": "d3dc2709-4951-492a-85a0-42c8df96b9f2"
      },
      "execution_count": null,
      "outputs": [
        {
          "output_type": "stream",
          "name": "stdout",
          "text": [
            "5 4\n"
          ]
        }
      ]
    },
    {
      "cell_type": "markdown",
      "source": [
        "7. Develop a program that prints the squares of numbers from 1 to 5 using a `for` loop."
      ],
      "metadata": {
        "id": "bW-j7i_S2Gr2"
      }
    },
    {
      "cell_type": "code",
      "source": [
        "for i in range (1, 6):\n",
        "  print(\"square of\", i, \"is =\", i ** 2)\n"
      ],
      "metadata": {
        "colab": {
          "base_uri": "https://localhost:8080/"
        },
        "id": "jP9KYozsxQop",
        "outputId": "217d3acb-7ab2-441e-b4ad-2d9cda05b921"
      },
      "execution_count": null,
      "outputs": [
        {
          "output_type": "stream",
          "name": "stdout",
          "text": [
            "square of 1 is = 1\n",
            "square of 2 is = 4\n",
            "square of 3 is = 9\n",
            "square of 4 is = 16\n",
            "square of 5 is = 25\n"
          ]
        }
      ]
    },
    {
      "cell_type": "markdown",
      "source": [
        "8. Create a program to find the length of a string without using the `len()` function."
      ],
      "metadata": {
        "id": "-PEpxnTS26Yu"
      }
    },
    {
      "cell_type": "code",
      "source": [
        "l = 0\n",
        "str = \"krishna\"\n",
        "for i in str:\n",
        "  l = l+ str.count(i)\n",
        "print(\"Length of string\",str,\"is :\", l)\n"
      ],
      "metadata": {
        "colab": {
          "base_uri": "https://localhost:8080/"
        },
        "id": "s8scQAO922Fb",
        "outputId": "a942d296-25c3-487f-943a-fcb6eebe78f4"
      },
      "execution_count": null,
      "outputs": [
        {
          "output_type": "stream",
          "name": "stdout",
          "text": [
            "Length of string krishna is : 7\n"
          ]
        }
      ]
    },
    {
      "cell_type": "markdown",
      "source": [
        "9. Write a program that calculates the average of a list of numbers using a `for` loop."
      ],
      "metadata": {
        "id": "PjyFy4f56DLM"
      }
    },
    {
      "cell_type": "code",
      "source": [
        "l2 = [34, 45, 65, 87, 23]\n",
        "count =0\n",
        "sum = 0\n",
        "for i in l2:\n",
        "  count = count + l2.count(i)\n",
        "  sum = sum + i\n",
        "avg = sum / count\n",
        "print(\"average of a list number:\", avg)"
      ],
      "metadata": {
        "colab": {
          "base_uri": "https://localhost:8080/"
        },
        "id": "XLvVqpFc471y",
        "outputId": "0dbd55ed-c420-4576-9c0e-da829ff6751a"
      },
      "execution_count": null,
      "outputs": [
        {
          "output_type": "stream",
          "name": "stdout",
          "text": [
            "average of a list number: 50.8\n"
          ]
        }
      ]
    },
    {
      "cell_type": "markdown",
      "source": [
        "10. Develop a program that prints the first `n` Fibonacci numbers using a `for` loop."
      ],
      "metadata": {
        "id": "TPBOOXxf8X4h"
      }
    },
    {
      "cell_type": "code",
      "source": [
        "# fn(first number) sn(second number) ln(last number)\n",
        "n = 8\n",
        "fn = 0\n",
        "sn = 1\n",
        "\n",
        "print(fn)\n",
        "print(sn)\n",
        "for i in range(1, n):\n",
        "    ln = fn + sn\n",
        "    print(ln)\n",
        "    fn, sn = sn, ln\n"
      ],
      "metadata": {
        "colab": {
          "base_uri": "https://localhost:8080/"
        },
        "id": "LyREKBGv8E3-",
        "outputId": "f0f391dc-2f29-42d7-dfb9-d2e7ec8d6796"
      },
      "execution_count": null,
      "outputs": [
        {
          "output_type": "stream",
          "name": "stdout",
          "text": [
            "0\n",
            "1\n",
            "1\n",
            "2\n",
            "3\n",
            "5\n",
            "8\n",
            "13\n",
            "21\n"
          ]
        }
      ]
    },
    {
      "cell_type": "markdown",
      "source": [
        "### Intermediate Level:"
      ],
      "metadata": {
        "id": "KXM7ncdMEdNl"
      }
    },
    {
      "cell_type": "markdown",
      "source": [
        "11. Write a program to check if a given list contains any duplicates using a `for` loop."
      ],
      "metadata": {
        "id": "P5diE4-KFUE1"
      }
    },
    {
      "cell_type": "code",
      "source": [
        "list = [87, 78, 91, 87, 78]\n",
        "duplicateval = []\n",
        "for i in range(len(list)):\n",
        "  k = i + 1\n",
        "  for j in range(k, len(list)):\n",
        "    if (list[i] == list[j] and (list[i] not in duplicateval)):\n",
        "        duplicateval.append(list[i])\n",
        "\n",
        "if(duplicateval == []):\n",
        " print(\"no duplicate val in list \")\n",
        "else:\n",
        "  print(\"duplicate value in list\", duplicateval)\n",
        "\n"
      ],
      "metadata": {
        "id": "ZIIca0LSCqua",
        "colab": {
          "base_uri": "https://localhost:8080/"
        },
        "outputId": "88e3382b-5558-4099-ef91-c0aaa8b0fdc0"
      },
      "execution_count": null,
      "outputs": [
        {
          "output_type": "stream",
          "name": "stdout",
          "text": [
            "duplicate value in list [87, 78]\n"
          ]
        }
      ]
    },
    {
      "cell_type": "markdown",
      "source": [
        "12. Create a program that prints the prime numbers in a given range using a `for` loop."
      ],
      "metadata": {
        "id": "7mmgLO3jXKn8"
      }
    },
    {
      "cell_type": "code",
      "source": [],
      "metadata": {
        "id": "nTqZIB15M-a3"
      },
      "execution_count": null,
      "outputs": []
    },
    {
      "cell_type": "markdown",
      "source": [
        "13. Develop a program that counts the number of vowels in a string using a `for` loop."
      ],
      "metadata": {
        "id": "3pxdVqlcNK5p"
      }
    },
    {
      "cell_type": "code",
      "source": [
        "str = input(\"enter string:\")\n",
        "s = \"aeiouAeiou\"\n",
        "count = 0\n",
        "for i in str:\n",
        "  if(i in s):\n",
        "    count += 1\n",
        "\n",
        "print(\"number of vowels in\", str,  \"is:\",count)"
      ],
      "metadata": {
        "id": "mw897tGrM2hO",
        "colab": {
          "base_uri": "https://localhost:8080/"
        },
        "outputId": "5190d667-5ef3-4ca3-8be5-cc5c1f3d2d12"
      },
      "execution_count": null,
      "outputs": [
        {
          "output_type": "stream",
          "name": "stdout",
          "text": [
            "enter string:krishna\n",
            "number of vowels in krishna is: 2\n"
          ]
        }
      ]
    },
    {
      "cell_type": "markdown",
      "source": [
        "14. Write a program to find the maximum element in a 2D list using a nested `for` loop.\n",
        "\n"
      ],
      "metadata": {
        "id": "Q9nBXLVAQRJb"
      }
    },
    {
      "cell_type": "code",
      "source": [
        "l = [[48, 55, 67], [78, 98, 89], [56, 99, 108]]\n",
        "m = 0\n",
        "\n",
        "for i in l:\n",
        "   for j in i:\n",
        "    if(j > m):\n",
        "      m = j\n",
        "print(m)\n",
        "\n",
        "\n"
      ],
      "metadata": {
        "colab": {
          "base_uri": "https://localhost:8080/"
        },
        "id": "EPfApyfqOyka",
        "outputId": "4cc16fb9-fb89-4283-fb7e-9c6accf9959c"
      },
      "execution_count": null,
      "outputs": [
        {
          "output_type": "stream",
          "name": "stdout",
          "text": [
            "108\n"
          ]
        }
      ]
    },
    {
      "cell_type": "markdown",
      "source": [
        "15. Create a program that removes all occurrences of a specific element from a list using a `for` loop.\n",
        "\n"
      ],
      "metadata": {
        "id": "I3hkWqPN_R6d"
      }
    },
    {
      "cell_type": "code",
      "source": [
        "l = [1, 2, 3, 4, 5, 6, 7, 9, 2, 0, 45, 2]\n",
        "element_remove =2\n",
        "new_l = []\n",
        "for i in l :\n",
        "  if (i != element_remove):\n",
        "    new_l.append(i)\n",
        "\n",
        "print(\"removed element list:\", new_l)\n",
        "\n",
        "\n",
        "\n"
      ],
      "metadata": {
        "id": "BG_S4kSBZgxz",
        "colab": {
          "base_uri": "https://localhost:8080/"
        },
        "outputId": "c3c18f14-530d-451b-ebd9-1d99a2f28960"
      },
      "execution_count": null,
      "outputs": [
        {
          "output_type": "stream",
          "name": "stdout",
          "text": [
            "removed element list: [1, 3, 4, 5, 6, 7, 9, 0, 45]\n"
          ]
        }
      ]
    },
    {
      "cell_type": "code",
      "source": [
        "# if there is more then one element to remove\n",
        "\n",
        "l = [1, 2, 3, 4, 5, 6, 7, 9, 2, 0, 45, 2]\n",
        "element_remove = [ 2, 45 ]\n",
        "new_l = []\n",
        "for i in l :\n",
        "  if (i not in element_remove):\n",
        "    new_l.append(i)\n",
        "\n",
        "print(\"removed element list:\", new_l)\n"
      ],
      "metadata": {
        "colab": {
          "base_uri": "https://localhost:8080/"
        },
        "id": "awX-x6u2_OmJ",
        "outputId": "73808057-4859-492d-baa9-a677e7a381be"
      },
      "execution_count": null,
      "outputs": [
        {
          "output_type": "stream",
          "name": "stdout",
          "text": [
            "removed element list: [1, 3, 4, 5, 6, 7, 9, 0]\n"
          ]
        }
      ]
    },
    {
      "cell_type": "markdown",
      "source": [
        "17. Write a program that converts a list of Fahrenheit temperatures to Celsius using a `for` loop."
      ],
      "metadata": {
        "id": "0soVU7uINvf7"
      }
    },
    {
      "cell_type": "code",
      "source": [
        "Fahren_list = [ 56, 108, 67, 76]\n",
        "cel_list = []\n",
        "for i in Fahren_list:\n",
        "    cel = (i - 32)*(5/9)\n",
        "    cel_list.append(cel)\n",
        "\n",
        "(\"Fahrenheit converted to Celsius list:\", cel_list)"
      ],
      "metadata": {
        "colab": {
          "base_uri": "https://localhost:8080/"
        },
        "id": "AqwmDM8yG4UY",
        "outputId": "4cf8342f-d97b-40ee-d9ab-ae440e4b51b8"
      },
      "execution_count": null,
      "outputs": [
        {
          "output_type": "execute_result",
          "data": {
            "text/plain": [
              "('Fahrenheit converted to Celsius list:',\n",
              " [13.333333333333334,\n",
              "  42.22222222222222,\n",
              "  19.444444444444446,\n",
              "  24.444444444444446])"
            ]
          },
          "metadata": {},
          "execution_count": 61
        }
      ]
    },
    {
      "cell_type": "markdown",
      "source": [
        "18. Create a program to print the common elements from two lists using a `for` loop."
      ],
      "metadata": {
        "id": "gst9PNgsRAEA"
      }
    },
    {
      "cell_type": "code",
      "source": [
        "c1 = [54, 56, 87, 90, 32, 345, 876, 564]\n",
        "c2 = [90, 54, 45, 56, 92, 345, 876, 654]\n",
        "common_ele = []\n",
        "for i in c1:\n",
        "  for j in c2:\n",
        "    if(i == j):\n",
        "      common_ele.append(i)\n",
        "\n",
        "print(\"common element in c1 and c2 lists are:\",common_ele)"
      ],
      "metadata": {
        "colab": {
          "base_uri": "https://localhost:8080/"
        },
        "id": "rHKsgyu6QQ-9",
        "outputId": "fba28f79-6d31-4a68-b03e-e44bf8de6b27"
      },
      "execution_count": null,
      "outputs": [
        {
          "output_type": "stream",
          "name": "stdout",
          "text": [
            "common element in c1 and c2 lists are: [54, 56, 90, 345, 876]\n"
          ]
        }
      ]
    },
    {
      "cell_type": "markdown",
      "source": [
        "19. Develop a program that prints the pattern of right-angled triangles using a `for` loop. Use ‘*’ to draw the\n",
        "pattern"
      ],
      "metadata": {
        "id": "wdwDt9zFZAjy"
      }
    },
    {
      "cell_type": "code",
      "source": [
        "for i in range(6):\n",
        "  for j in range(i+1):\n",
        "    print(\"*\", end=\"\")\n",
        "  print(\" \")"
      ],
      "metadata": {
        "colab": {
          "base_uri": "https://localhost:8080/"
        },
        "id": "SFIOuPY8SjCM",
        "outputId": "286eb4ff-c5c1-4ca0-eaa3-6e9311ccffbb"
      },
      "execution_count": null,
      "outputs": [
        {
          "output_type": "stream",
          "name": "stdout",
          "text": [
            "* \n",
            "** \n",
            "*** \n",
            "**** \n",
            "***** \n",
            "****** \n"
          ]
        }
      ]
    },
    {
      "cell_type": "markdown",
      "source": [
        "20. Write a program to find the greatest common divisor (GCD) of two numbers using a `for` loop."
      ],
      "metadata": {
        "id": "PKXZq-Opd_m-"
      }
    },
    {
      "cell_type": "code",
      "source": [
        "num1 = 56\n",
        "num2 = 76\n",
        "\n",
        "for i in range(1, min(num1, num2) + 1):\n",
        "  if num1 % i == 0 and num2 % i == 0:\n",
        "       gcd = i\n",
        "\n",
        "\n",
        "print(gcd)"
      ],
      "metadata": {
        "id": "fSwN0bW3Z9u7",
        "colab": {
          "base_uri": "https://localhost:8080/"
        },
        "outputId": "49d17ca0-f76d-4761-fcbd-6105b7d2a736"
      },
      "execution_count": null,
      "outputs": [
        {
          "output_type": "stream",
          "name": "stdout",
          "text": [
            "4\n"
          ]
        }
      ]
    },
    {
      "cell_type": "markdown",
      "source": [
        " Create a program that calculates the sum of the digits of numbers in a list using a list comprehension."
      ],
      "metadata": {
        "id": "hvG45aB32Ox9"
      }
    },
    {
      "cell_type": "code",
      "source": [
        "l = [sum(i for i in [34, 67, 89, 65])]\n",
        "print(l)"
      ],
      "metadata": {
        "id": "R-TPz3ey2BEw",
        "colab": {
          "base_uri": "https://localhost:8080/"
        },
        "outputId": "ac525f6a-8c3d-47d4-fda6-de5419698120"
      },
      "execution_count": 1,
      "outputs": [
        {
          "output_type": "stream",
          "name": "stdout",
          "text": [
            "[255]\n"
          ]
        }
      ]
    },
    {
      "cell_type": "markdown",
      "source": [
        "22. Write a program to find the prime factors of a given number using a `for` loop and list comprehension."
      ],
      "metadata": {
        "id": "Jz32DE1UHczJ"
      }
    },
    {
      "cell_type": "code",
      "source": [
        "\n"
      ],
      "metadata": {
        "id": "h6DVJfS83fEi"
      },
      "execution_count": null,
      "outputs": []
    },
    {
      "cell_type": "markdown",
      "source": [
        " Develop a program that extracts unique elements from a list and stores them in a new list using a list\n",
        "comprehension."
      ],
      "metadata": {
        "id": "lXgW4xpSLW4J"
      }
    },
    {
      "cell_type": "code",
      "source": [
        "uni_ele = [45, 78, 56]\n",
        "s = []\n",
        "l = [s.append(i) for i in [56, 78, 45, 76, 102, 98] if i in uni_ele]\n",
        "print (s)\n"
      ],
      "metadata": {
        "id": "4aRtGp7WEfSH",
        "colab": {
          "base_uri": "https://localhost:8080/"
        },
        "outputId": "3020ab4a-322b-4280-f3f9-ea386e4ea63d"
      },
      "execution_count": 2,
      "outputs": [
        {
          "output_type": "stream",
          "name": "stdout",
          "text": [
            "[56, 78, 45]\n"
          ]
        }
      ]
    },
    {
      "cell_type": "markdown",
      "source": [
        " Create a program that generates a list of all palindromic numbers up to a specified limit using a list\n",
        "comprehension."
      ],
      "metadata": {
        "id": "_r2XMIWFQcr1"
      }
    },
    {
      "cell_type": "code",
      "source": [
        "limit =int(input(\"Enter limit:\"))\n",
        "is_pal = []\n",
        "l = [is_pal.append(i) for i in range(10, limit + 1) if str(i)  == str(i)[::-1]]\n",
        "print(is_pal)\n"
      ],
      "metadata": {
        "id": "l2vE6ROTEqrS",
        "colab": {
          "base_uri": "https://localhost:8080/"
        },
        "outputId": "19339dbb-380d-4f45-a9e4-c202dded2de5"
      },
      "execution_count": 6,
      "outputs": [
        {
          "output_type": "stream",
          "name": "stdout",
          "text": [
            "Enter limit:500\n",
            "[11, 22, 33, 44, 55, 66, 77, 88, 99, 101, 111, 121, 131, 141, 151, 161, 171, 181, 191, 202, 212, 222, 232, 242, 252, 262, 272, 282, 292, 303, 313, 323, 333, 343, 353, 363, 373, 383, 393, 404, 414, 424, 434, 444, 454, 464, 474, 484, 494]\n"
          ]
        }
      ]
    },
    {
      "cell_type": "markdown",
      "source": [
        "25. Write a program to flatten a nested list. Using list comprehension"
      ],
      "metadata": {
        "id": "mCfZwMeyWkNc"
      }
    },
    {
      "cell_type": "code",
      "source": [
        "l = [element for i in [[43, 34, 56], [67, 76, 89], [99, 58, 98]] for element in i]\n",
        "l\n"
      ],
      "metadata": {
        "id": "PH4bIKJDEvMs",
        "colab": {
          "base_uri": "https://localhost:8080/"
        },
        "outputId": "0a065c8a-fa3b-47f0-d908-01445ce10315"
      },
      "execution_count": 7,
      "outputs": [
        {
          "output_type": "execute_result",
          "data": {
            "text/plain": [
              "[43, 34, 56, 67, 76, 89, 99, 58, 98]"
            ]
          },
          "metadata": {},
          "execution_count": 7
        }
      ]
    },
    {
      "cell_type": "markdown",
      "source": [
        "Develop a program that computes the sum of even and odd numbers in a list separately using list\n",
        "comprehension."
      ],
      "metadata": {
        "id": "HwtCkxLcZl9Q"
      }
    },
    {
      "cell_type": "code",
      "source": [
        "even = [ i for i in range(1, 20) if i % 2 == 0 ]\n",
        "print(\"even numbers:\", even)\n",
        "sum_even = [sum(even)]\n",
        "print(\"sum of even numbers:\", sum_even)\n",
        "\n",
        "odd = [ i for i in range(1, 20) if i % 2 != 0]\n",
        "print(\"odd numbers:\", odd)\n",
        "sum_odd = [sum(odd)]\n",
        "print(\"sum of odd numbers:\", sum_odd)\n",
        "\n"
      ],
      "metadata": {
        "id": "7bFcIFKoTCVI",
        "colab": {
          "base_uri": "https://localhost:8080/"
        },
        "outputId": "be90f8c6-b0d8-498f-c1e6-df08fd8d50ad"
      },
      "execution_count": 18,
      "outputs": [
        {
          "output_type": "stream",
          "name": "stdout",
          "text": [
            "even numbers: [2, 4, 6, 8, 10, 12, 14, 16, 18]\n",
            "sum of even numbers: [90]\n",
            "odd numbers: [1, 3, 5, 7, 9, 11, 13, 15, 17, 19]\n",
            "sum of odd numbers: [100]\n"
          ]
        }
      ]
    },
    {
      "cell_type": "markdown",
      "source": [
        "27. Create a program that generates a list of squares of odd numbers between 1 and 10 using list\n",
        "comprehension."
      ],
      "metadata": {
        "id": "F2KNgWBGmPzG"
      }
    },
    {
      "cell_type": "code",
      "source": [
        "square_no = [i**2 for i in range(1, 10) if i % 2 != 0]\n",
        "square_no"
      ],
      "metadata": {
        "id": "ZYv1o05bcxrT",
        "colab": {
          "base_uri": "https://localhost:8080/"
        },
        "outputId": "68a0b528-2fe1-42cb-e36e-37b1fa3cd80f"
      },
      "execution_count": 8,
      "outputs": [
        {
          "output_type": "execute_result",
          "data": {
            "text/plain": [
              "[1, 9, 25, 49, 81]"
            ]
          },
          "metadata": {},
          "execution_count": 8
        }
      ]
    },
    {
      "cell_type": "markdown",
      "source": [
        "28. Write a program that combines two lists into a dictionary using list comprehension.\n",
        "\n"
      ],
      "metadata": {
        "id": "O7Aqp4g3w1Qs"
      }
    },
    {
      "cell_type": "code",
      "source": [
        "\n",
        "keys = input(\"Enter a list of keys separated by spaces: \").split()\n",
        "values = input(\"Enter a list of values separated by spaces: \").split()\n",
        "\n",
        "\n",
        "combined_dict = {keys[i]: values[i] for i in range(min(len(keys), len(values)))}\n",
        "\n",
        "\n",
        "print(\"Combined Dictionary:\", combined_dict)\n"
      ],
      "metadata": {
        "id": "NAtFwv7klaW_",
        "colab": {
          "base_uri": "https://localhost:8080/"
        },
        "outputId": "99448399-a816-43e2-8cb6-c476cf3e8632"
      },
      "execution_count": 10,
      "outputs": [
        {
          "output_type": "stream",
          "name": "stdout",
          "text": [
            "Enter a list of keys separated by spaces: python c c++ javascript\n",
            "Enter a list of values separated by spaces: 56 78 90 89\n",
            "Combined Dictionary: {'python': '56', 'c': '78', 'c++': '90', 'javascript': '89'}\n"
          ]
        }
      ]
    },
    {
      "cell_type": "markdown",
      "source": [
        "29. Develop a program that extracts the vowels from a string and stores them in a list using list comprehension."
      ],
      "metadata": {
        "id": "rckdnmgwuHj4"
      }
    },
    {
      "cell_type": "code",
      "source": [
        "str ='aeiouAEIOU'\n",
        "str1 = input(\"Enter string:\")\n",
        "l = [i for i in str1 if i in str ]\n",
        "print(l)"
      ],
      "metadata": {
        "id": "xn-Q95Wbli06",
        "colab": {
          "base_uri": "https://localhost:8080/"
        },
        "outputId": "642e92a5-1264-42f9-9c72-fa5d077d89cb"
      },
      "execution_count": 11,
      "outputs": [
        {
          "output_type": "stream",
          "name": "stdout",
          "text": [
            "Enter string:krishna\n",
            "['i', 'a']\n"
          ]
        }
      ]
    },
    {
      "cell_type": "markdown",
      "source": [
        "30. Create a program that removes all non-numeric characters from a list of strings using list comprehension."
      ],
      "metadata": {
        "id": "horT9mI_3oSW"
      }
    },
    {
      "cell_type": "code",
      "source": [
        "#num = [ i  for i in [67, 89, 'hi', 90, '-', 76, '#', 88] if str(i).isnumeric() == True]\n",
        "#print(num) this code is working in another google colab notebook but here it is showing error."
      ],
      "metadata": {
        "id": "vxUlAglH3lwf"
      },
      "execution_count": 20,
      "outputs": []
    },
    {
      "cell_type": "markdown",
      "source": [
        "Challenge Level:"
      ],
      "metadata": {
        "id": "0tT-QFAhBdTs"
      }
    },
    {
      "cell_type": "markdown",
      "source": [
        "31. Write a program to generate a list of prime numbers using the Sieve of Eratosthenes algorithm and list\n",
        "compreh"
      ],
      "metadata": {
        "id": "4UKkZVspBomY"
      }
    },
    {
      "cell_type": "code",
      "source": [],
      "metadata": {
        "id": "isMqlPWNygnf"
      },
      "execution_count": 15,
      "outputs": []
    },
    {
      "cell_type": "code",
      "source": [
        "\n",
        "\n"
      ],
      "metadata": {
        "id": "2AqAgAHH1Ft0"
      },
      "execution_count": null,
      "outputs": []
    },
    {
      "cell_type": "code",
      "source": [],
      "metadata": {
        "id": "fxKLFJktIZdx"
      },
      "execution_count": null,
      "outputs": []
    }
  ]
}